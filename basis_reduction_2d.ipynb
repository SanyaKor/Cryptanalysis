{
 "cells": [
  {
   "metadata": {},
   "cell_type": "markdown",
   "source": [
    "# 📐 2D Lattice Basis Reduction – Interactive Notebook\n",
    "\n",
    "This notebook demonstrates the step-by-step process of **reducing a two-dimensional lattice basis** using a simple Gram-Schmidt–style algorithm.\n",
    "\n",
    "## 🔍 What it does:\n",
    "- Takes an initial integer basis `{b1, b2}` of a 2D lattice\n",
    "- Applies iterative reduction (projection & subtraction)\n",
    "- Preserves the **same lattice** (structure of all integer linear combinations)\n",
    "- Finds a **shorter and nearly orthogonal** basis\n",
    "\n",
    "## 📊 Features included:\n",
    "- Full reduction algorithm (`reduce_2d_basis`)\n",
    "- Visualizations of the basis before and after reduction\n",
    "- Randomized testing with lattice-equivalence checks\n",
    "- Utility functions for table formatting and validation\n",
    "\n",
    "## 🧠 Why it matters:\n",
    "Lattice reduction is a fundamental tool in **cryptography**, **geometry of numbers**, and **computational number theory**. This notebook helps you understand how reduction works visually and numerically in 2D before moving to higher dimensions or LLL.\n",
    "\n",
    "---"
   ],
   "id": "3b08600f895fa8a4"
  },
  {
   "metadata": {},
   "cell_type": "markdown",
   "source": [
    "### 🔧 Function: `reduce_2d_basis(basis1, basis2)`\n",
    "\n",
    "This function performs **basis reduction** on two 2D lattice vectors using a simple Gram-Schmidt-like algorithm.\n",
    "\n",
    "#### 📌 Input:\n",
    "- `b1`, `b2`: NumPy arrays representing the initial basis vectors (shape `(R^2)` each)\n",
    "\n",
    "#### ✅ Output:\n",
    "- A list `[steps, basis1_reduced, basis2_reduced]`, representing the reduced basis vectors, and amount of steps."
   ],
   "id": "28a17039e5e7f692"
  },
  {
   "metadata": {
    "ExecuteTime": {
     "end_time": "2025-05-21T15:03:43.210155Z",
     "start_time": "2025-05-21T15:03:43.200024Z"
    }
   },
   "cell_type": "code",
   "source": [
    "import numpy as np\n",
    "\n",
    "def reduce_2d_basis(basis1, basis2, verbose=False):\n",
    "\n",
    "    data = []\n",
    "\n",
    "    steps = 0\n",
    "\n",
    "    while True:\n",
    "\n",
    "        if np.linalg.norm(basis2) < np.linalg.norm(basis1):\n",
    "            basis1, basis2 = basis2, basis1\n",
    "            continue\n",
    "\n",
    "\n",
    "        t = round(np.dot(basis1, basis2) / np.dot(basis1, basis1))\n",
    "\n",
    "        data.append({\n",
    "            'step': steps,\n",
    "            'b1': basis1.copy(),\n",
    "            'b2': basis2.copy(),\n",
    "        })\n",
    "\n",
    "        steps += 1\n",
    "\n",
    "\n",
    "        if t == 0:\n",
    "            break\n",
    "\n",
    "        basis2 = basis2 - t * basis1\n",
    "\n",
    "    shortest = basis1 if np.linalg.norm(basis1) <= np.linalg.norm(basis2) else basis2\n",
    "\n",
    "    data.append({\n",
    "        'step': '→ shortest',\n",
    "        'b1': shortest if np.array_equal(shortest, basis1) else '',\n",
    "        'b2': shortest if np.array_equal(shortest, basis2) else ''\n",
    "    })\n",
    "\n",
    "    return data if verbose else [basis1, basis2]"
   ],
   "id": "806a151e9e461cae",
   "outputs": [],
   "execution_count": 4
  },
  {
   "metadata": {},
   "cell_type": "markdown",
   "source": [
    "### 📊 2D Basis Reduction Table\n",
    "\n",
    "This table shows the step-by-step reduction of a 2D lattice basis:\n",
    "\n",
    "- **`step`** — the number of the reduction step\n",
    "- **`b1`, `b2`** — the basis vectors at each step\n",
    "- The final row labeled **`→ shortest`** indicates the shortest vector found in the final reduced basis\n",
    "\n",
    "The goal of the reduction is to simplify the basis while preserving the original lattice:\n",
    "- Making vectors shorter\n",
    "- Moving them closer to orthogonality"
   ],
   "id": "ac2e4804c5535eaa"
  },
  {
   "metadata": {
    "ExecuteTime": {
     "end_time": "2025-05-21T15:03:44.161332Z",
     "start_time": "2025-05-21T15:03:44.147563Z"
    }
   },
   "cell_type": "code",
   "source": [
    "import pandas as pd\n",
    "from IPython.display import display\n",
    "\n",
    "def build_basis_table(data):\n",
    "\n",
    "    rows = []\n",
    "    for entry in data:\n",
    "        b1 = entry['b1']\n",
    "        b2 = entry['b2']\n",
    "\n",
    "        def format_vec(vec):\n",
    "            if isinstance(vec, (np.ndarray, list, tuple)) and len(vec) == 2:\n",
    "                return f\"[{vec[0]}, {vec[1]}]\"\n",
    "            elif isinstance(vec, str):\n",
    "                return vec\n",
    "            else:\n",
    "                return \"\"\n",
    "\n",
    "        rows.append({\n",
    "            'step': entry['step'],\n",
    "            'b1': format_vec(b1),\n",
    "            'b2': format_vec(b2),\n",
    "        })\n",
    "\n",
    "    return pd.DataFrame(rows)\n",
    "\n",
    "\n",
    "b1 = np.array([31, 59])\n",
    "b2 = np.array([37, 70])\n",
    "\n",
    "data = reduce_2d_basis(b1, b2, verbose = True)\n",
    "table = build_basis_table(data)\n",
    "display(table.style.hide(axis=\"index\"))"
   ],
   "id": "7553379e57dde1b9",
   "outputs": [
    {
     "data": {
      "text/plain": [
       "<pandas.io.formats.style.Styler at 0x110c0bb90>"
      ],
      "text/html": [
       "<style type=\"text/css\">\n",
       "</style>\n",
       "<table id=\"T_7af7d\">\n",
       "  <thead>\n",
       "    <tr>\n",
       "      <th id=\"T_7af7d_level0_col0\" class=\"col_heading level0 col0\" >step</th>\n",
       "      <th id=\"T_7af7d_level0_col1\" class=\"col_heading level0 col1\" >b1</th>\n",
       "      <th id=\"T_7af7d_level0_col2\" class=\"col_heading level0 col2\" >b2</th>\n",
       "    </tr>\n",
       "  </thead>\n",
       "  <tbody>\n",
       "    <tr>\n",
       "      <td id=\"T_7af7d_row0_col0\" class=\"data row0 col0\" >0</td>\n",
       "      <td id=\"T_7af7d_row0_col1\" class=\"data row0 col1\" >[31, 59]</td>\n",
       "      <td id=\"T_7af7d_row0_col2\" class=\"data row0 col2\" >[37, 70]</td>\n",
       "    </tr>\n",
       "    <tr>\n",
       "      <td id=\"T_7af7d_row1_col0\" class=\"data row1 col0\" >1</td>\n",
       "      <td id=\"T_7af7d_row1_col1\" class=\"data row1 col1\" >[6, 11]</td>\n",
       "      <td id=\"T_7af7d_row1_col2\" class=\"data row1 col2\" >[31, 59]</td>\n",
       "    </tr>\n",
       "    <tr>\n",
       "      <td id=\"T_7af7d_row2_col0\" class=\"data row2 col0\" >2</td>\n",
       "      <td id=\"T_7af7d_row2_col1\" class=\"data row2 col1\" >[1, 4]</td>\n",
       "      <td id=\"T_7af7d_row2_col2\" class=\"data row2 col2\" >[6, 11]</td>\n",
       "    </tr>\n",
       "    <tr>\n",
       "      <td id=\"T_7af7d_row3_col0\" class=\"data row3 col0\" >3</td>\n",
       "      <td id=\"T_7af7d_row3_col1\" class=\"data row3 col1\" >[3, -1]</td>\n",
       "      <td id=\"T_7af7d_row3_col2\" class=\"data row3 col2\" >[1, 4]</td>\n",
       "    </tr>\n",
       "    <tr>\n",
       "      <td id=\"T_7af7d_row4_col0\" class=\"data row4 col0\" >→ shortest</td>\n",
       "      <td id=\"T_7af7d_row4_col1\" class=\"data row4 col1\" >[3, -1]</td>\n",
       "      <td id=\"T_7af7d_row4_col2\" class=\"data row4 col2\" ></td>\n",
       "    </tr>\n",
       "  </tbody>\n",
       "</table>\n"
      ]
     },
     "metadata": {},
     "output_type": "display_data"
    }
   ],
   "execution_count": 5
  },
  {
   "metadata": {},
   "cell_type": "markdown",
   "source": [
    "# ✅ Lattice Reduction Test Log\n",
    "\n",
    "**Test configuration:**\n",
    "\n",
    "- Total tests: `5`\n",
    "- Vector range: `[-50, 50]`\n",
    "- Min |component|: `10`\n",
    "- Algorithm: `2D basis reduction`\n",
    "- Check:\n",
    "  - ✅ Same lattice (via invertible integer transformation)\n",
    "  - ✅ Shorter vector after reduction"
   ],
   "id": "a1230e83f7c7d0f3"
  },
  {
   "metadata": {
    "ExecuteTime": {
     "end_time": "2025-05-21T15:03:47.063854Z",
     "start_time": "2025-05-21T15:03:47.044666Z"
    }
   },
   "cell_type": "code",
   "source": [
    "def check_same_lattice(basis1_init, basis2_init, basis1_reduced, basis2_reduced):\n",
    "\n",
    "    Basis_initial = np.column_stack([basis1_init, basis2_init])\n",
    "    Basis_reduced = np.column_stack([basis1_reduced, basis2_reduced])\n",
    "\n",
    "    T = np.linalg.solve(Basis_initial, Basis_reduced)\n",
    "\n",
    "    return np.allclose(T, np.round(T)) and round(abs(np.linalg.det(T))) == 1\n",
    "\n",
    "\n",
    "def generate_n_2d_bases(n=10, min_abs=10, max_val=50):\n",
    "\n",
    "    bases = []\n",
    "\n",
    "    while len(bases) < n:\n",
    "        b1 = np.random.randint(-max_val, max_val + 1, size=2)\n",
    "        b2 = np.random.randint(-max_val, max_val + 1, size=2)\n",
    "\n",
    "        all_coords = np.concatenate([b1, b2])\n",
    "        if any(abs(x) < min_abs for x in all_coords):\n",
    "            continue\n",
    "\n",
    "        if np.linalg.matrix_rank(np.column_stack([b1, b2])) == 2:\n",
    "            bases.append((b1, b2))\n",
    "\n",
    "    return bases\n",
    "\n",
    "\n",
    "def tests_br2d(basis_list, verbose=False):\n",
    "\n",
    "    tests_amount = len(basis_list)\n",
    "    tests_passed = 0\n",
    "\n",
    "    results = []\n",
    "\n",
    "    for i, (b1, b2) in enumerate(basis_list):\n",
    "        b1_reduced, b2_reduced = reduce_2d_basis(b1, b2)\n",
    "\n",
    "        same = check_same_lattice(b1, b2, b1_reduced, b2_reduced)\n",
    "        original_len = min(np.linalg.norm(b1), np.linalg.norm(b2))\n",
    "        reduced_len = min(np.linalg.norm(b1_reduced), np.linalg.norm(b2_reduced))\n",
    "        improved = reduced_len <= original_len\n",
    "\n",
    "        if same and improved:\n",
    "            tests_passed += 1\n",
    "            if verbose:\n",
    "                print(f\"✅ Test {i + 1}: PASSED\")\n",
    "                print(f\"Initial basis: b1 = {b1}, b2 = {b2}\")\n",
    "                print(f\"Reduced basis: b1 = {b1_reduced}, b2 = {b2_reduced}\")\n",
    "\n",
    "            results.append({\n",
    "                \"b1\": b1_reduced,\n",
    "                \"b2\": b2_reduced,\n",
    "                \"result\": 1\n",
    "            })\n",
    "\n",
    "        else:\n",
    "\n",
    "            if verbose:\n",
    "                print(f\"❌ Test {i + 1} FAILED: \")\n",
    "                print(f\"b1 = {b1}, b2 = {b2}\")\n",
    "\n",
    "            results.append({\n",
    "                    \"b1\": b1_reduced,\n",
    "                    \"b2\": b2_reduced,\n",
    "                    \"result\": 0\n",
    "            })\n",
    "    if verbose:\n",
    "        print(f\"\\n📊 {tests_amount}/{tests_passed} tests passed.\")\n",
    "\n",
    "    return results\n",
    "\n",
    "basis_list = generate_n_2d_bases(10)\n",
    "tests_br2d(basis_list, verbose=True);"
   ],
   "id": "f3c387645ca0375e",
   "outputs": [
    {
     "name": "stdout",
     "output_type": "stream",
     "text": [
      "✅ Test 1: PASSED\n",
      "Initial basis: b1 = [ 35 -47], b2 = [ 25 -28]\n",
      "Reduced basis: b1 = [ -5 -10], b2 = [-15   9]\n",
      "✅ Test 2: PASSED\n",
      "Initial basis: b1 = [ 48 -13], b2 = [-46 -12]\n",
      "Reduced basis: b1 = [  2 -25], b2 = [-46 -12]\n",
      "✅ Test 3: PASSED\n",
      "Initial basis: b1 = [-32  44], b2 = [11 39]\n",
      "Reduced basis: b1 = [11 39], b2 = [-43   5]\n",
      "✅ Test 4: PASSED\n",
      "Initial basis: b1 = [ 11 -15], b2 = [ 31 -34]\n",
      "Reduced basis: b1 = [ 9 -4], b2 = [-7 -7]\n",
      "✅ Test 5: PASSED\n",
      "Initial basis: b1 = [ 32 -45], b2 = [ 42 -13]\n",
      "Reduced basis: b1 = [-10 -32], b2 = [ 42 -13]\n",
      "✅ Test 6: PASSED\n",
      "Initial basis: b1 = [ 25 -50], b2 = [-43  23]\n",
      "Reduced basis: b1 = [-18 -27], b2 = [-43  23]\n",
      "✅ Test 7: PASSED\n",
      "Initial basis: b1 = [-48 -10], b2 = [35 33]\n",
      "Reduced basis: b1 = [-13  23], b2 = [35 33]\n",
      "✅ Test 8: PASSED\n",
      "Initial basis: b1 = [ 15 -21], b2 = [35 15]\n",
      "Reduced basis: b1 = [ 15 -21], b2 = [35 15]\n",
      "✅ Test 9: PASSED\n",
      "Initial basis: b1 = [21 41], b2 = [-44  24]\n",
      "Reduced basis: b1 = [21 41], b2 = [-44  24]\n",
      "✅ Test 10: PASSED\n",
      "Initial basis: b1 = [-11 -40], b2 = [ 43 -11]\n",
      "Reduced basis: b1 = [-11 -40], b2 = [ 43 -11]\n",
      "\n",
      "📊 10/10 tests passed.\n"
     ]
    }
   ],
   "execution_count": 6
  },
  {
   "metadata": {
    "ExecuteTime": {
     "end_time": "2025-05-21T10:37:46.198231Z",
     "start_time": "2025-05-21T10:37:46.196425Z"
    }
   },
   "cell_type": "code",
   "source": "",
   "id": "54cd870cfd841db5",
   "outputs": [],
   "execution_count": null
  },
  {
   "metadata": {
    "ExecuteTime": {
     "end_time": "2025-05-21T10:37:46.210560Z",
     "start_time": "2025-05-21T10:37:46.209064Z"
    }
   },
   "cell_type": "code",
   "source": "",
   "id": "5ea82bbc9483ef37",
   "outputs": [],
   "execution_count": null
  }
 ],
 "metadata": {
  "kernelspec": {
   "display_name": "Python 3",
   "language": "python",
   "name": "python3"
  },
  "language_info": {
   "codemirror_mode": {
    "name": "ipython",
    "version": 2
   },
   "file_extension": ".py",
   "mimetype": "text/x-python",
   "name": "python",
   "nbconvert_exporter": "python",
   "pygments_lexer": "ipython2",
   "version": "2.7.6"
  }
 },
 "nbformat": 4,
 "nbformat_minor": 5
}
