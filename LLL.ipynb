{
 "cells": [
  {
   "metadata": {},
   "cell_type": "markdown",
   "source": [
    "### 📐 LLL Algorithm: Wikipedia Implementation & Tests\n",
    "\n",
    "This implementation of the Lenstra–Lenstra–Lovász (LLL) lattice basis reduction algorithm is based on the description from [Wikipedia](https://en.wikipedia.org/wiki/Lenstra%E2%80%93Lenstra%E2%80%93Lov%C3%A1sz_lattice_basis_reduction_algorithm).\n",
    "\n",
    "The algorithm has been implemented in Python and extended with custom test cases to verify correctness, lattice preservation, and reduced vector lengths across various dimensions."
   ],
   "id": "17688917a46445dc"
  },
  {
   "metadata": {
    "collapsed": true,
    "ExecuteTime": {
     "end_time": "2025-05-21T15:44:08.695835Z",
     "start_time": "2025-05-21T15:44:08.687301Z"
    }
   },
   "cell_type": "code",
   "outputs": [],
   "execution_count": 14,
   "source": [
    "import numpy as np\n",
    "\n",
    "\n",
    "def gram_schmidt(basis):\n",
    "    n = len(basis)\n",
    "    dim = len(basis[0])\n",
    "\n",
    "    ortho = [np.zeros(dim) for _ in range(n)]\n",
    "    mu = np.zeros((n, n))\n",
    "\n",
    "    for i in range(n):\n",
    "        b_i = basis[i]\n",
    "        projection = np.zeros(dim)\n",
    "\n",
    "        for j in range(i):\n",
    "            mu[i, j] = np.dot(b_i, ortho[j]) / np.dot(ortho[j], ortho[j])\n",
    "            projection += mu[i, j] * ortho[j]\n",
    "\n",
    "        ortho[i] = b_i - projection\n",
    "\n",
    "    return ortho, mu\n",
    "\n",
    "\n",
    "\n",
    "def lll_reduce(basis, delta=0.75, verbose=False):\n",
    "\n",
    "    basis = [b.copy() for b in basis]\n",
    "    n = len(basis)\n",
    "    k = 1\n",
    "\n",
    "\n",
    "    while k < n:\n",
    "        ortho, mu = gram_schmidt(basis)\n",
    "\n",
    "        #print(basis)\n",
    "        for j in range(k - 1, -1, -1):  # j < k\n",
    "            if abs(mu[k, j]) > 0.5:\n",
    "                r = round(mu[k, j])\n",
    "                basis[k] -= r * basis[j]\n",
    "                ortho, mu = gram_schmidt(basis)\n",
    "\n",
    "        norm_sq_prev = np.dot(ortho[k - 1], ortho[k - 1])\n",
    "        norm_sq_curr = np.dot(ortho[k], ortho[k])\n",
    "\n",
    "        lhs = delta * norm_sq_prev\n",
    "        rhs = norm_sq_curr + mu[k, k - 1]**2 * norm_sq_prev\n",
    "\n",
    "        if lhs > rhs:\n",
    "            basis[k], basis[k - 1] = basis[k - 1], basis[k].copy()\n",
    "\n",
    "            k = max(k - 1, 1)\n",
    "        else:\n",
    "            k += 1\n",
    "\n",
    "    return basis\n",
    "\n",
    "\n",
    "\n"
   ],
   "id": "initial_id"
  },
  {
   "metadata": {
    "ExecuteTime": {
     "end_time": "2025-05-21T15:44:08.900073Z",
     "start_time": "2025-05-21T15:44:08.894176Z"
    }
   },
   "cell_type": "code",
   "source": [
    "import import_ipynb\n",
    "import basis_reduction_2d as br2d; # type: ignore ## static funcs error?\n",
    "\n",
    "def bases_equal_2d(basis1, basis2):\n",
    "    def normalize(v):\n",
    "        v = np.array(v)\n",
    "        return v if v[0] > 0 or (v[0] == 0 and v[1] >= 0) else -v\n",
    "\n",
    "    def sorted_basis(u, v):\n",
    "        return sorted([normalize(u).tolist(), normalize(v).tolist()])\n",
    "\n",
    "    return sorted_basis(basis1[0], basis1[1]) == sorted_basis(basis2[0], basis2[1])\n",
    "\n",
    "def tests_brlll(basis_list, verbose=False):\n",
    "\n",
    "    tests_amount = len(basis_list)\n",
    "    tests_passed = 0\n",
    "\n",
    "    results = []\n",
    "\n",
    "    for i, basis in enumerate(basis_list):\n",
    "        reduced = lll_reduce(basis)\n",
    "\n",
    "        same = br2d.check_same_lattice(*basis, *reduced)\n",
    "\n",
    "        original_len = min(np.linalg.norm(v) for v in basis)\n",
    "        reduced_len = min(np.linalg.norm(v) for v in reduced)\n",
    "        improved = reduced_len <= original_len\n",
    "\n",
    "        result = int(same and improved)\n",
    "        if result:\n",
    "            tests_passed += 1\n",
    "\n",
    "        if verbose:\n",
    "            print(f\"{'✅' if result else '❌'} Test {i + 1}: {'PASSED' if result else 'FAILED'}\")\n",
    "            print(\"Initial basis:\")\n",
    "            for v in basis:\n",
    "                print(\" \", v)\n",
    "            print(\"Reduced basis:\")\n",
    "            for v in reduced:\n",
    "                print(\" \", v)\n",
    "            print()\n",
    "\n",
    "        results.append({\n",
    "            \"basis\": [v.tolist() for v in reduced],\n",
    "            \"result\": result\n",
    "        })\n",
    "\n",
    "    if verbose:\n",
    "        print(f\"\\n📊 {tests_passed}/{tests_amount} tests passed.\")\n",
    "\n",
    "    return results\n",
    "\n"
   ],
   "id": "49f422fe0c4fe99c",
   "outputs": [],
   "execution_count": 15
  },
  {
   "metadata": {},
   "cell_type": "markdown",
   "source": [
    "### ✅ LLL Reduction Tests (2D)\n",
    "\n",
    "We test whether different 2D basis reduction methods (e.g. LLL, classical) produce equivalent bases.\n",
    "\n",
    "Bases are normalized (up to sign and order) before comparison.\n",
    "\n",
    "Matches confirm correct lattice reduction."
   ],
   "id": "54f514c5f90466b4"
  },
  {
   "metadata": {
    "ExecuteTime": {
     "end_time": "2025-05-21T15:44:09.658547Z",
     "start_time": "2025-05-21T15:44:09.645808Z"
    }
   },
   "cell_type": "code",
   "source": [
    "basis_list = br2d.generate_n_2d_bases(10)\n",
    "test_results_br2d = br2d.tests_br2d(basis_list)\n",
    "test_results_brlll = tests_brlll(basis_list)\n",
    "\n",
    "for i in range(len(test_results_br2d)):\n",
    "    res_2d = test_results_br2d[i]\n",
    "    res_lll = test_results_brlll[i]\n",
    "\n",
    "    b1_2d, b2_2d = res_2d[\"b1\"], res_2d[\"b2\"]\n",
    "    b1_lll, b2_lll = res_lll[\"basis\"]\n",
    "    match = bases_equal_2d([b1_2d,b2_2d], [b1_lll, b2_lll])\n",
    "\n",
    "    if match:\n",
    "        print(f\"Test {i+1}: ✅ MATCH\")\n",
    "        print(f\"  🔹 br2d  → b1 = {b1_2d}, b2 = {b2_2d}\")\n",
    "        print(f\"  🔸 brlll → b1 = {b1_lll}, b2 = {b2_lll}\")\n",
    "    else:\n",
    "        print(f\"Test {i+1}: ❌ DIFFERENT\")\n",
    "        print(f\"  🔹 br2d  → b1 = {b1_2d}, b2 = {b2_2d}\")\n",
    "        print(f\"  🔸 brlll → b1 = {b1_lll}, b2 = {b2_lll}\")\n",
    "\n",
    "\n"
   ],
   "id": "97fe30a4450876ef",
   "outputs": [
    {
     "name": "stdout",
     "output_type": "stream",
     "text": [
      "Test 1: ✅ MATCH\n",
      "  🔹 br2d  → b1 = [22 14], b2 = [ 21 -28]\n",
      "  🔸 brlll → b1 = [22, 14], b2 = [21, -28]\n",
      "Test 2: ✅ MATCH\n",
      "  🔹 br2d  → b1 = [6 6], b2 = [ 15 -13]\n",
      "  🔸 brlll → b1 = [-6, -6], b2 = [15, -13]\n",
      "Test 3: ✅ MATCH\n",
      "  🔹 br2d  → b1 = [-17 -44], b2 = [-36  37]\n",
      "  🔸 brlll → b1 = [-17, -44], b2 = [-36, 37]\n",
      "Test 4: ✅ MATCH\n",
      "  🔹 br2d  → b1 = [-12   4], b2 = [ -7 -28]\n",
      "  🔸 brlll → b1 = [-12, 4], b2 = [7, 28]\n",
      "Test 5: ✅ MATCH\n",
      "  🔹 br2d  → b1 = [-12 -46], b2 = [-46  24]\n",
      "  🔸 brlll → b1 = [-46, 24], b2 = [-12, -46]\n",
      "Test 6: ✅ MATCH\n",
      "  🔹 br2d  → b1 = [-21 -34], b2 = [-47  33]\n",
      "  🔸 brlll → b1 = [-21, -34], b2 = [-47, 33]\n",
      "Test 7: ❌ DIFFERENT\n",
      "  🔹 br2d  → b1 = [-32   0], b2 = [-16  47]\n",
      "  🔸 brlll → b1 = [32, 0], b2 = [16, 47]\n",
      "Test 8: ✅ MATCH\n",
      "  🔹 br2d  → b1 = [ -7 -39], b2 = [-37  21]\n",
      "  🔸 brlll → b1 = [-37, 21], b2 = [-7, -39]\n",
      "Test 9: ✅ MATCH\n",
      "  🔹 br2d  → b1 = [-15  -2], b2 = [-3 28]\n",
      "  🔸 brlll → b1 = [15, 2], b2 = [-3, 28]\n",
      "Test 10: ✅ MATCH\n",
      "  🔹 br2d  → b1 = [-22   3], b2 = [  2 -35]\n",
      "  🔸 brlll → b1 = [-22, 3], b2 = [-2, 35]\n"
     ]
    }
   ],
   "execution_count": 16
  },
  {
   "metadata": {
    "ExecuteTime": {
     "end_time": "2025-05-21T15:44:10.031733Z",
     "start_time": "2025-05-21T15:44:10.028160Z"
    }
   },
   "cell_type": "code",
   "source": [
    "basis = [\n",
    "    np.array([1, -1, 3]),\n",
    "    np.array([1,  0, 5]),\n",
    "    np.array([1,  2, 6])\n",
    "]\n",
    "\n",
    "test_results_br2d = lll_reduce(basis)\n",
    "print(test_results_br2d)\n",
    "\n"
   ],
   "id": "5a6279f27a2439e8",
   "outputs": [
    {
     "name": "stdout",
     "output_type": "stream",
     "text": [
      "[array([ 1, -1,  0]), array([-1,  0,  1]), array([1, 1, 1])]\n"
     ]
    }
   ],
   "execution_count": 17
  },
  {
   "metadata": {
    "ExecuteTime": {
     "end_time": "2025-05-21T15:26:02.978918Z",
     "start_time": "2025-05-21T15:26:02.977113Z"
    }
   },
   "cell_type": "code",
   "source": "",
   "id": "3a839af55befd72c",
   "outputs": [],
   "execution_count": null
  }
 ],
 "metadata": {
  "kernelspec": {
   "display_name": "Python 3",
   "language": "python",
   "name": "python3"
  },
  "language_info": {
   "codemirror_mode": {
    "name": "ipython",
    "version": 2
   },
   "file_extension": ".py",
   "mimetype": "text/x-python",
   "name": "python",
   "nbconvert_exporter": "python",
   "pygments_lexer": "ipython2",
   "version": "2.7.6"
  }
 },
 "nbformat": 4,
 "nbformat_minor": 5
}
