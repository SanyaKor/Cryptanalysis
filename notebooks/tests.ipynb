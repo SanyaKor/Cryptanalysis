{
 "cells": [
  {
   "metadata": {},
   "cell_type": "markdown",
   "source": [
    "### 🧭 Overview\n",
    "\n",
    "This notebook contains tests and visual demonstrations for two lattice basis reduction algorithms:\n",
    "\n",
    "- [**`reduce_2d_basis`**](#📐-2D-Lattice-Basis-Reduction-–-Interactive-Notebook):\n",
    "  [View source](../lattice_methods/basis_reduction_2d.py)\n",
    "\n",
    "- [**`lll_reduce`**](#📐-LLL-Algorithm:-Wikipedia-Based-Implementation-&-Tests):\n",
    "  [View source](../lattice_methods/lll.py)\n",
    "  Based on [Wikipedia](https://en.wikipedia.org/wiki/Lenstra–Lenstra–Lovász_lattice_basis_reduction_algorithm)\n",
    "\n",
    "Both aim to shorten basis vectors while preserving the same lattice.\n",
    "We compare their results, run randomized tests, and validate correctness through lattice checks and vector norms."
   ],
   "id": "d4a62c786e35ceb8"
  },
  {
   "metadata": {
    "collapsed": true,
    "ExecuteTime": {
     "end_time": "2025-05-26T19:42:34.295189Z",
     "start_time": "2025-05-26T19:42:33.746042Z"
    }
   },
   "cell_type": "code",
   "source": [
    "from tests import tests_br2d\n",
    "from tests import generate_random_bases\n",
    "from tests import tests_brlll\n",
    "from lattice_methods import are_bases_equal_2d\n",
    "\n",
    "sample = generate_random_bases(10, 2)\n",
    "tests_br2d(sample, True);"
   ],
   "id": "initial_id",
   "outputs": [
    {
     "name": "stdout",
     "output_type": "stream",
     "text": [
      "✅ Test 1: PASSED\n",
      "Initial basis: b1 = [-38  36], b2 = [ 14 -47]\n",
      "Reduced basis: b1 = [-24 -11], b2 = [ 14 -47]\n",
      "✅ Test 2: PASSED\n",
      "Initial basis: b1 = [ 28 -48], b2 = [26 48]\n",
      "Reduced basis: b1 = [54  0], b2 = [26 48]\n",
      "✅ Test 3: PASSED\n",
      "Initial basis: b1 = [-13  23], b2 = [-25 -35]\n",
      "Reduced basis: b1 = [-13  23], b2 = [-38 -12]\n",
      "✅ Test 4: PASSED\n",
      "Initial basis: b1 = [-44 -32], b2 = [-38 -21]\n",
      "Reduced basis: b1 = [ -6 -11], b2 = [-20  12]\n",
      "✅ Test 5: PASSED\n",
      "Initial basis: b1 = [ 18 -21], b2 = [-12  22]\n",
      "Reduced basis: b1 = [6 1], b2 = [-6 23]\n",
      "✅ Test 6: PASSED\n",
      "Initial basis: b1 = [-22 -42], b2 = [-43 -47]\n",
      "Reduced basis: b1 = [-21  -5], b2 = [ -1 -37]\n",
      "✅ Test 7: PASSED\n",
      "Initial basis: b1 = [ 25 -40], b2 = [48 43]\n",
      "Reduced basis: b1 = [ 25 -40], b2 = [48 43]\n",
      "✅ Test 8: PASSED\n",
      "Initial basis: b1 = [-49 -45], b2 = [ 14 -20]\n",
      "Reduced basis: b1 = [ 14 -20], b2 = [-49 -45]\n",
      "✅ Test 9: PASSED\n",
      "Initial basis: b1 = [-31 -37], b2 = [ 23 -50]\n",
      "Reduced basis: b1 = [-31 -37], b2 = [ 23 -50]\n",
      "✅ Test 10: PASSED\n",
      "Initial basis: b1 = [-39  49], b2 = [-29  43]\n",
      "Reduced basis: b1 = [-10   6], b2 = [11 19]\n",
      "\n",
      "📊 10/10 tests passed.\n"
     ]
    }
   ],
   "execution_count": 3
  },
  {
   "metadata": {},
   "cell_type": "markdown",
   "source": [
    "### ✅ LLL Reduction Tests (2D)\n",
    "\n",
    "We test whether different 2D basis reduction methods (e.g. LLL, classical) produce equivalent bases.\n",
    "\n",
    "Bases are normalized (up to sign and order) before comparison.\n",
    "\n",
    "Matches confirm correct lattice reduction."
   ],
   "id": "9894896fcedb72d4"
  },
  {
   "metadata": {
    "ExecuteTime": {
     "end_time": "2025-05-26T19:42:35.406107Z",
     "start_time": "2025-05-26T19:42:35.397268Z"
    }
   },
   "cell_type": "code",
   "source": [
    "sample = generate_random_bases(10, 2)\n",
    "tests_brlll(sample, True);"
   ],
   "id": "57e1f8ff77b1ed1e",
   "outputs": [
    {
     "name": "stdout",
     "output_type": "stream",
     "text": [
      "✅ Test 1: PASSED\n",
      "Initial basis:\n",
      "  [-30 -46]\n",
      "  [-27  32]\n",
      "Reduced basis:\n",
      "  [-27  32]\n",
      "  [-30 -46]\n",
      "\n",
      "✅ Test 2: PASSED\n",
      "Initial basis:\n",
      "  [ 32 -36]\n",
      "  [-10  39]\n",
      "Reduced basis:\n",
      "  [22  3]\n",
      "  [ 10 -39]\n",
      "\n",
      "✅ Test 3: PASSED\n",
      "Initial basis:\n",
      "  [24 30]\n",
      "  [-33 -16]\n",
      "Reduced basis:\n",
      "  [-9 14]\n",
      "  [33 16]\n",
      "\n",
      "✅ Test 4: PASSED\n",
      "Initial basis:\n",
      "  [-17 -28]\n",
      "  [ 49 -18]\n",
      "Reduced basis:\n",
      "  [-17 -28]\n",
      "  [ 49 -18]\n",
      "\n",
      "✅ Test 5: PASSED\n",
      "Initial basis:\n",
      "  [ 18 -23]\n",
      "  [20 21]\n",
      "Reduced basis:\n",
      "  [ 18 -23]\n",
      "  [20 21]\n",
      "\n",
      "✅ Test 6: PASSED\n",
      "Initial basis:\n",
      "  [-30 -38]\n",
      "  [ 44 -10]\n",
      "Reduced basis:\n",
      "  [-30 -38]\n",
      "  [ 44 -10]\n",
      "\n",
      "✅ Test 7: PASSED\n",
      "Initial basis:\n",
      "  [-18  28]\n",
      "  [11 27]\n",
      "Reduced basis:\n",
      "  [-18  28]\n",
      "  [29 -1]\n",
      "\n",
      "✅ Test 8: PASSED\n",
      "Initial basis:\n",
      "  [-38 -21]\n",
      "  [37 14]\n",
      "Reduced basis:\n",
      "  [-1 -7]\n",
      "  [-34   7]\n",
      "\n",
      "✅ Test 9: PASSED\n",
      "Initial basis:\n",
      "  [-17  38]\n",
      "  [ 44 -12]\n",
      "Reduced basis:\n",
      "  [-17  38]\n",
      "  [27 26]\n",
      "\n",
      "✅ Test 10: PASSED\n",
      "Initial basis:\n",
      "  [-11 -22]\n",
      "  [10 46]\n",
      "Reduced basis:\n",
      "  [-12   2]\n",
      "  [  1 -24]\n",
      "\n",
      "\n",
      "📊 10/10 tests passed.\n"
     ]
    }
   ],
   "execution_count": 4
  },
  {
   "metadata": {},
   "cell_type": "markdown",
   "source": [
    "### 🔍 LLL vs Basic 2D Reduction\n",
    "\n",
    "This section compares a basic 2D basis reduction algorithm with the LLL method.\n",
    "\n",
    "Both aim to shorten vectors while preserving the same lattice.\n",
    "Tests check:\n",
    "\n",
    "- Lattice equivalence\n",
    "- Vector length reduction\n",
    "- Differences in sign/order\n",
    "- Consistency across inputs"
   ],
   "id": "28c5131b6045f548"
  },
  {
   "metadata": {
    "ExecuteTime": {
     "end_time": "2025-05-26T19:43:56.261230Z",
     "start_time": "2025-05-26T19:43:56.241437Z"
    }
   },
   "cell_type": "code",
   "source": [
    "basis_list = (generate_random_bases(10, 2))\n",
    "test_results_br2d = tests_br2d(basis_list)\n",
    "test_results_brlll = tests_brlll(basis_list)\n",
    "\n",
    "tests_amount = 10\n",
    "tests_passed = 0\n",
    "\n",
    "for i in range(len(test_results_br2d)):\n",
    "    original_b1, original_b2 = basis_list[i]\n",
    "\n",
    "    res_2d = test_results_br2d[i]\n",
    "    res_lll = test_results_brlll[i]\n",
    "\n",
    "    b1_2d, b2_2d = res_2d[\"b1\"], res_2d[\"b2\"]\n",
    "    b1_lll, b2_lll = res_lll[\"basis\"]\n",
    "    match = are_bases_equal_2d([b1_2d,b2_2d], [b1_lll, b2_lll])\n",
    "\n",
    "    print(f\"\\n🔹 Test {i + 1}\")\n",
    "    print(f\"   Given basis: b1 = {original_b1}, b2 = {original_b2}\")\n",
    "\n",
    "    if match:\n",
    "        print(\"   ✅ MATCH\")\n",
    "        tests_passed += 1\n",
    "    else:\n",
    "        print(\"   ❌ DIFFERENT\")\n",
    "\n",
    "    print(f\"   br2d  → b1 = {b1_2d}, b2 = {b2_2d}\")\n",
    "    print(f\"   brlll → b1 = {b1_lll}, b2 = {b2_lll}\")\n",
    "\n",
    "print(f\"\\n📊 {tests_passed}/{tests_amount} tests passed.\")"
   ],
   "id": "c19a7267bd4aa757",
   "outputs": [
    {
     "name": "stdout",
     "output_type": "stream",
     "text": [
      "\n",
      "🔹 Test 1\n",
      "   Given basis: b1 = [-15 -19], b2 = [-45 -26]\n",
      "   ✅ MATCH\n",
      "   br2d  → b1 = [-15  12], b2 = [-15 -19]\n",
      "   brlll → b1 = [-15, 12], b2 = [-15, -19]\n",
      "\n",
      "🔹 Test 2\n",
      "   Given basis: b1 = [ 22 -48], b2 = [-37 -15]\n",
      "   ✅ MATCH\n",
      "   br2d  → b1 = [-37 -15], b2 = [ 22 -48]\n",
      "   brlll → b1 = [-37, -15], b2 = [22, -48]\n",
      "\n",
      "🔹 Test 3\n",
      "   Given basis: b1 = [33 45], b2 = [-38  48]\n",
      "   ✅ MATCH\n",
      "   br2d  → b1 = [33 45], b2 = [-38  48]\n",
      "   brlll → b1 = [33, 45], b2 = [-38, 48]\n",
      "\n",
      "🔹 Test 4\n",
      "   Given basis: b1 = [ 26 -10], b2 = [-38 -40]\n",
      "   ✅ MATCH\n",
      "   br2d  → b1 = [ 26 -10], b2 = [-12 -50]\n",
      "   brlll → b1 = [26, -10], b2 = [-12, -50]\n",
      "\n",
      "🔹 Test 5\n",
      "   Given basis: b1 = [11 29], b2 = [-35  22]\n",
      "   ✅ MATCH\n",
      "   br2d  → b1 = [11 29], b2 = [-35  22]\n",
      "   brlll → b1 = [11, 29], b2 = [-35, 22]\n",
      "\n",
      "🔹 Test 6\n",
      "   Given basis: b1 = [-24  30], b2 = [-41 -25]\n",
      "   ✅ MATCH\n",
      "   br2d  → b1 = [-24  30], b2 = [-41 -25]\n",
      "   brlll → b1 = [-24, 30], b2 = [-41, -25]\n",
      "\n",
      "🔹 Test 7\n",
      "   Given basis: b1 = [32 20], b2 = [-30 -10]\n",
      "   ✅ MATCH\n",
      "   br2d  → b1 = [ 2 10], b2 = [-26  10]\n",
      "   brlll → b1 = [2, 10], b2 = [26, -10]\n",
      "\n",
      "🔹 Test 8\n",
      "   Given basis: b1 = [-21 -12], b2 = [ 17 -36]\n",
      "   ✅ MATCH\n",
      "   br2d  → b1 = [-21 -12], b2 = [ 17 -36]\n",
      "   brlll → b1 = [-21, -12], b2 = [17, -36]\n",
      "\n",
      "🔹 Test 9\n",
      "   Given basis: b1 = [-10 -14], b2 = [-44  39]\n",
      "   ✅ MATCH\n",
      "   br2d  → b1 = [-10 -14], b2 = [-44  39]\n",
      "   brlll → b1 = [-10, -14], b2 = [-44, 39]\n",
      "\n",
      "🔹 Test 10\n",
      "   Given basis: b1 = [-44 -28], b2 = [26 38]\n",
      "   ✅ MATCH\n",
      "   br2d  → b1 = [-18  10], b2 = [26 38]\n",
      "   brlll → b1 = [-18, 10], b2 = [-26, -38]\n",
      "\n",
      "📊 10/10 tests passed.\n"
     ]
    }
   ],
   "execution_count": 19
  },
  {
   "metadata": {
    "ExecuteTime": {
     "end_time": "2025-05-26T19:42:37.696386Z",
     "start_time": "2025-05-26T19:42:37.693699Z"
    }
   },
   "cell_type": "code",
   "source": "",
   "id": "9e7cc4d325c3781f",
   "outputs": [],
   "execution_count": null
  },
  {
   "metadata": {
    "ExecuteTime": {
     "end_time": "2025-05-26T15:29:54.263904Z",
     "start_time": "2025-05-26T15:29:54.260570Z"
    }
   },
   "cell_type": "code",
   "source": [
    "# basis = [\n",
    "#     np.array([1, -1, 3]),\n",
    "#     np.array([1,  0, 5]),\n",
    "#     np.array([1,  2, 6])\n",
    "# ]\n",
    "#\n",
    "# test_results_br2d = lll_reduce(basis)\n",
    "# print(test_results_br2d)"
   ],
   "id": "64d59ff55ebf7fa6",
   "outputs": [],
   "execution_count": 1
  }
 ],
 "metadata": {
  "kernelspec": {
   "display_name": "Python 3",
   "language": "python",
   "name": "python3"
  },
  "language_info": {
   "codemirror_mode": {
    "name": "ipython",
    "version": 2
   },
   "file_extension": ".py",
   "mimetype": "text/x-python",
   "name": "python",
   "nbconvert_exporter": "python",
   "pygments_lexer": "ipython2",
   "version": "2.7.6"
  }
 },
 "nbformat": 4,
 "nbformat_minor": 5
}
