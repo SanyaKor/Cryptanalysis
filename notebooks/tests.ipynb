{
 "cells": [
  {
   "metadata": {},
   "cell_type": "markdown",
   "source": [
    "### 🧭 Overview\n",
    "\n",
    "This notebook contains tests and visual demonstrations for two lattice basis reduction algorithms:\n",
    "\n",
    "- [**`reduce_2d_basis`**](#📐-2D-Lattice-Basis-Reduction-–-Interactive-Notebook):\n",
    "  [View source](../lattice_methods/basis_reduction_2d.py)\n",
    "\n",
    "- [**`lll_reduce`**](#📐-LLL-Algorithm:-Wikipedia-Based-Implementation-&-Tests):\n",
    "  [View source](../lattice_methods/lll.py)\n",
    "  Based on [Wikipedia](https://en.wikipedia.org/wiki/Lenstra–Lenstra–Lovász_lattice_basis_reduction_algorithm)\n",
    "\n",
    "Both aim to shorten basis vectors while preserving the same lattice.\n",
    "We compare their results, run randomized tests, and validate correctness through lattice checks and vector norms."
   ],
   "id": "d4a62c786e35ceb8"
  },
  {
   "metadata": {
    "collapsed": true,
    "ExecuteTime": {
     "end_time": "2025-05-28T11:27:50.022094Z",
     "start_time": "2025-05-28T11:27:49.609162Z"
    }
   },
   "cell_type": "code",
   "source": [
    "from tests import tests_br2d\n",
    "from tests import generate_random_bases\n",
    "from tests import tests_brlll\n",
    "from lattice_methods import are_bases_equal_2d\n",
    "\n",
    "sample = generate_random_bases(10, 2)\n",
    "tests_br2d(sample, True);"
   ],
   "id": "initial_id",
   "outputs": [
    {
     "name": "stdout",
     "output_type": "stream",
     "text": [
      "✅ Test 1: PASSED\n",
      "Initial basis: b1 = [ 43 -25], b2 = [42 43]\n",
      "Reduced basis: b1 = [ 43 -25], b2 = [42 43]\n",
      "✅ Test 2: PASSED\n",
      "Initial basis: b1 = [-37  26], b2 = [-32  15]\n",
      "Reduced basis: b1 = [-5 11], b2 = [-22  -7]\n",
      "✅ Test 3: PASSED\n",
      "Initial basis: b1 = [-41 -26], b2 = [-23 -47]\n",
      "Reduced basis: b1 = [ 18 -21], b2 = [-41 -26]\n",
      "✅ Test 4: PASSED\n",
      "Initial basis: b1 = [-21 -12], b2 = [ 50 -11]\n",
      "Reduced basis: b1 = [-21 -12], b2 = [  8 -35]\n",
      "✅ Test 5: PASSED\n",
      "Initial basis: b1 = [-44  19], b2 = [-13  33]\n",
      "Reduced basis: b1 = [-31 -14], b2 = [-13  33]\n",
      "✅ Test 6: PASSED\n",
      "Initial basis: b1 = [ 15 -28], b2 = [32 31]\n",
      "Reduced basis: b1 = [ 15 -28], b2 = [32 31]\n",
      "✅ Test 7: PASSED\n",
      "Initial basis: b1 = [46 33], b2 = [-45 -34]\n",
      "Reduced basis: b1 = [ 1 -1], b2 = [-39 -40]\n",
      "✅ Test 8: PASSED\n",
      "Initial basis: b1 = [-31 -47], b2 = [-48 -30]\n",
      "Reduced basis: b1 = [-17  17], b2 = [-31 -47]\n",
      "✅ Test 9: PASSED\n",
      "Initial basis: b1 = [-20  37], b2 = [-18 -10]\n",
      "Reduced basis: b1 = [-18 -10], b2 = [-20  37]\n",
      "✅ Test 10: PASSED\n",
      "Initial basis: b1 = [11 29], b2 = [-11  46]\n",
      "Reduced basis: b1 = [-22  17], b2 = [11 29]\n",
      "\n",
      "📊 10/10 tests passed.\n"
     ]
    }
   ],
   "execution_count": 1
  },
  {
   "metadata": {},
   "cell_type": "markdown",
   "source": [
    "### ✅ LLL Reduction Tests (2D)\n",
    "\n",
    "We test whether different 2D basis reduction methods (e.g. LLL, classical) produce equivalent bases.\n",
    "\n",
    "Bases are normalized (up to sign and order) before comparison.\n",
    "\n",
    "Matches confirm correct lattice reduction."
   ],
   "id": "9894896fcedb72d4"
  },
  {
   "metadata": {
    "ExecuteTime": {
     "end_time": "2025-05-28T11:27:50.243499Z",
     "start_time": "2025-05-28T11:27:50.237209Z"
    }
   },
   "cell_type": "code",
   "source": [
    "sample = generate_random_bases(10, 2)\n",
    "tests_brlll(sample, True);"
   ],
   "id": "57e1f8ff77b1ed1e",
   "outputs": [
    {
     "name": "stdout",
     "output_type": "stream",
     "text": [
      "✅ Test 1: PASSED\n",
      "Initial basis:\n",
      "  [-19 -39]\n",
      "  [-17  28]\n",
      "Reduced basis:\n",
      "  [-17  28]\n",
      "  [-36 -11]\n",
      "\n",
      "✅ Test 2: PASSED\n",
      "Initial basis:\n",
      "  [ 44 -23]\n",
      "  [50 39]\n",
      "Reduced basis:\n",
      "  [ 44 -23]\n",
      "  [ 6 62]\n",
      "\n",
      "✅ Test 3: PASSED\n",
      "Initial basis:\n",
      "  [46 22]\n",
      "  [-37 -27]\n",
      "Reduced basis:\n",
      "  [ 9 -5]\n",
      "  [19 37]\n",
      "\n",
      "✅ Test 4: PASSED\n",
      "Initial basis:\n",
      "  [ 36 -11]\n",
      "  [17 30]\n",
      "Reduced basis:\n",
      "  [ 36 -11]\n",
      "  [17 30]\n",
      "\n",
      "✅ Test 5: PASSED\n",
      "Initial basis:\n",
      "  [-44  19]\n",
      "  [ 15 -29]\n",
      "Reduced basis:\n",
      "  [-29 -10]\n",
      "  [-15  29]\n",
      "\n",
      "✅ Test 6: PASSED\n",
      "Initial basis:\n",
      "  [ 41 -23]\n",
      "  [ 28 -37]\n",
      "Reduced basis:\n",
      "  [-13 -14]\n",
      "  [ 28 -37]\n",
      "\n",
      "✅ Test 7: PASSED\n",
      "Initial basis:\n",
      "  [ 25 -37]\n",
      "  [-31  41]\n",
      "Reduced basis:\n",
      "  [-6  4]\n",
      "  [-11 -13]\n",
      "\n",
      "✅ Test 8: PASSED\n",
      "Initial basis:\n",
      "  [-21  23]\n",
      "  [-23 -37]\n",
      "Reduced basis:\n",
      "  [-21  23]\n",
      "  [-23 -37]\n",
      "\n",
      "✅ Test 9: PASSED\n",
      "Initial basis:\n",
      "  [34 16]\n",
      "  [39 42]\n",
      "Reduced basis:\n",
      "  [ 5 26]\n",
      "  [ 29 -10]\n",
      "\n",
      "✅ Test 10: PASSED\n",
      "Initial basis:\n",
      "  [40 17]\n",
      "  [-14  35]\n",
      "Reduced basis:\n",
      "  [40 17]\n",
      "  [-14  35]\n",
      "\n",
      "\n",
      "📊 10/10 tests passed.\n"
     ]
    }
   ],
   "execution_count": 2
  },
  {
   "metadata": {},
   "cell_type": "markdown",
   "source": [
    "### 🔍 LLL vs Basic 2D Reduction\n",
    "\n",
    "This section compares a basic 2D basis reduction algorithm with the LLL method.\n",
    "\n",
    "Both aim to shorten vectors while preserving the same lattice.\n",
    "Tests check:\n",
    "\n",
    "- Lattice equivalence\n",
    "- Vector length reduction\n",
    "- Differences in sign/order\n",
    "- Consistency across inputs"
   ],
   "id": "28c5131b6045f548"
  },
  {
   "metadata": {
    "ExecuteTime": {
     "end_time": "2025-05-28T11:27:50.863515Z",
     "start_time": "2025-05-28T11:27:50.851653Z"
    }
   },
   "cell_type": "code",
   "source": [
    "basis_list = (generate_random_bases(10, 2))\n",
    "test_results_br2d = tests_br2d(basis_list)\n",
    "test_results_brlll = tests_brlll(basis_list)\n",
    "\n",
    "tests_amount = 10\n",
    "tests_passed = 0\n",
    "\n",
    "for i in range(len(test_results_br2d)):\n",
    "    original_b1, original_b2 = basis_list[i]\n",
    "\n",
    "    res_2d = test_results_br2d[i]\n",
    "    res_lll = test_results_brlll[i]\n",
    "\n",
    "    b1_2d, b2_2d = res_2d[\"b1\"], res_2d[\"b2\"]\n",
    "    b1_lll, b2_lll = res_lll[\"basis\"]\n",
    "    match = are_bases_equal_2d([b1_2d,b2_2d], [b1_lll, b2_lll])\n",
    "\n",
    "    print(f\"\\n🔹 Test {i + 1}\")\n",
    "    print(f\"   Given basis: b1 = {original_b1}, b2 = {original_b2}\")\n",
    "\n",
    "    if match:\n",
    "        print(\"   ✅ MATCH\")\n",
    "        tests_passed += 1\n",
    "    else:\n",
    "        print(\"   ❌ DIFFERENT\")\n",
    "\n",
    "    print(f\"   br2d  → b1 = {b1_2d}, b2 = {b2_2d}\")\n",
    "    print(f\"   brlll → b1 = {b1_lll}, b2 = {b2_lll}\")\n",
    "\n",
    "print(f\"\\n📊 {tests_passed}/{tests_amount} tests passed.\")"
   ],
   "id": "c19a7267bd4aa757",
   "outputs": [
    {
     "name": "stdout",
     "output_type": "stream",
     "text": [
      "\n",
      "🔹 Test 1\n",
      "   Given basis: b1 = [ 16 -43], b2 = [-49  19]\n",
      "   ✅ MATCH\n",
      "   br2d  → b1 = [-33 -24], b2 = [ 16 -43]\n",
      "   brlll → b1 = [16, -43], b2 = [-33, -24]\n",
      "\n",
      "🔹 Test 2\n",
      "   Given basis: b1 = [23 34], b2 = [-25  29]\n",
      "   ✅ MATCH\n",
      "   br2d  → b1 = [-25  29], b2 = [23 34]\n",
      "   brlll → b1 = [23, 34], b2 = [-25, 29]\n",
      "\n",
      "🔹 Test 3\n",
      "   Given basis: b1 = [-12  28], b2 = [ 26 -23]\n",
      "   ✅ MATCH\n",
      "   br2d  → b1 = [14  5], b2 = [-12  28]\n",
      "   brlll → b1 = [14, 5], b2 = [-12, 28]\n",
      "\n",
      "🔹 Test 4\n",
      "   Given basis: b1 = [ 47 -42], b2 = [ 14 -40]\n",
      "   ✅ MATCH\n",
      "   br2d  → b1 = [33 -2], b2 = [ 14 -40]\n",
      "   brlll → b1 = [-33, 2], b2 = [14, -40]\n",
      "\n",
      "🔹 Test 5\n",
      "   Given basis: b1 = [48 25], b2 = [28 46]\n",
      "   ✅ MATCH\n",
      "   br2d  → b1 = [ 20 -21], b2 = [28 46]\n",
      "   brlll → b1 = [-20, 21], b2 = [28, 46]\n",
      "\n",
      "🔹 Test 6\n",
      "   Given basis: b1 = [-34  17], b2 = [ 30 -33]\n",
      "   ✅ MATCH\n",
      "   br2d  → b1 = [ -4 -16], b2 = [-34  17]\n",
      "   brlll → b1 = [-4, -16], b2 = [-34, 17]\n",
      "\n",
      "🔹 Test 7\n",
      "   Given basis: b1 = [25 25], b2 = [36 43]\n",
      "   ✅ MATCH\n",
      "   br2d  → b1 = [-3 11], b2 = [-14  -7]\n",
      "   brlll → b1 = [-3, 11], b2 = [-14, -7]\n",
      "\n",
      "🔹 Test 8\n",
      "   Given basis: b1 = [43 14], b2 = [22 33]\n",
      "   ✅ MATCH\n",
      "   br2d  → b1 = [ 21 -19], b2 = [22 33]\n",
      "   brlll → b1 = [-21, 19], b2 = [22, 33]\n",
      "\n",
      "🔹 Test 9\n",
      "   Given basis: b1 = [16 19], b2 = [-12  29]\n",
      "   ✅ MATCH\n",
      "   br2d  → b1 = [16 19], b2 = [-28  10]\n",
      "   brlll → b1 = [16, 19], b2 = [-28, 10]\n",
      "\n",
      "🔹 Test 10\n",
      "   Given basis: b1 = [-44 -50], b2 = [-28  40]\n",
      "   ✅ MATCH\n",
      "   br2d  → b1 = [-28  40], b2 = [-44 -50]\n",
      "   brlll → b1 = [-28, 40], b2 = [-44, -50]\n",
      "\n",
      "📊 10/10 tests passed.\n"
     ]
    }
   ],
   "execution_count": 3
  },
  {
   "metadata": {
    "ExecuteTime": {
     "end_time": "2025-05-28T11:27:51.590735Z",
     "start_time": "2025-05-28T11:27:51.587852Z"
    }
   },
   "cell_type": "code",
   "source": [
    "# basis = [\n",
    "#     np.array([1, -1, 3]),\n",
    "#     np.array([1,  0, 5]),\n",
    "#     np.array([1,  2, 6])\n",
    "# ]\n",
    "#\n",
    "# test_results_br2d = lll_reduce(basis)\n",
    "# print(test_results_br2d)"
   ],
   "id": "64d59ff55ebf7fa6",
   "outputs": [],
   "execution_count": 4
  },
  {
   "metadata": {},
   "cell_type": "markdown",
   "source": [
    "### 🔐 NTRU Tests\n",
    "\n",
    "---\n",
    "\n",
    "📘 **Example Source:**\n",
    "**_Applied Cryptanalysis: Breaking Ciphers in the Real World_**\n",
    "**Authors:** Mark Stamp, Richard M. Low\n",
    "**Chapter:** 6.7\n",
    "\n",
    "\n",
    "---\n",
    "\n",
    "This example is derived from real-world cryptographic analysis discussed in Chapter 6.7 of the book. It demonstrates core principles of NTRU encryption and its cryptanalytic implications."
   ],
   "id": "45d7fb67fe968df3"
  },
  {
   "metadata": {
    "ExecuteTime": {
     "end_time": "2025-05-28T11:57:50.630398Z",
     "start_time": "2025-05-28T11:57:50.615858Z"
    }
   },
   "cell_type": "code",
   "source": [
    "from lattice_methods import ntru_generate_keys, ntru_encryption, ntru_decryption\n",
    "from sympy import Poly, GF,symbols, ZZ\n",
    "\n",
    "x = symbols('x')\n",
    "\n",
    "N = 11\n",
    "p = 3\n",
    "q = 32\n",
    "\n",
    "\n",
    "phi = [0, 0, -1, 0, 0, -1, 1, 1, 1, 0, -1]\n",
    "m = [1, 1, -1, 0, 0, 0, -1, 1, 0, 0, -1]\n",
    "g = [-1, 0, -1, 0, 0, 1, 0, 1, 1, 0, -1]\n",
    "f = [-1, 1, 0, 0, 1, 0, -1, 0, 1, 1, -1]\n",
    "\n",
    "\n",
    "poly_f = Poly(f, x)\n",
    "poly_g = Poly(g, x)\n",
    "poly_m = Poly(m, x)\n",
    "poly_phi = Poly(phi, x)\n",
    "\n",
    "\n",
    "pub_key, prv_key = ntru_generate_keys(N, p, q, poly_g, poly_f)\n",
    "ciphertext = ntru_encryption(pub_key, poly_phi, poly_m)\n",
    "poly_d = ntru_decryption(pub_key, prv_key, ciphertext)\n",
    "\n",
    "[f, Fp] = prv_key\n",
    "[N,p, q, h] = pub_key\n",
    "\n",
    "poly_m = Poly(poly_m, x, domain=GF(p))\n",
    "\n",
    "\n",
    "print(\"✉️ Original Message Polynomial:\")\n",
    "print(f\"    m(x) = {poly_m}\\n\")\n",
    "\n",
    "print(\"📬 Decrypted Message Polynomial:\")\n",
    "print(f\"    m'(x) = {poly_d}\")\n",
    "print(\"=\" * 80)\n"
   ],
   "id": "9e7cc4d325c3781f",
   "outputs": [
    {
     "name": "stdout",
     "output_type": "stream",
     "text": [
      "✉️ Original Message Polynomial:\n",
      "    m(x) = Poly(x**10 + x**9 - x**8 - x**4 + x**3 - 1, x, modulus=3)\n",
      "\n",
      "📬 Decrypted Message Polynomial:\n",
      "    m'(x) = Poly(x**10 + x**9 - x**8 - x**4 + x**3 - 1, x, modulus=3)\n",
      "================================================================================\n"
     ]
    }
   ],
   "execution_count": 9
  },
  {
   "metadata": {},
   "cell_type": "markdown",
   "source": [
    "## 🧪 Example 2\n",
    "📌 _Numerical values in this example are taken directly from:_ [https://shrek.unideb.hu/~tengely/crypto/section-8.html](https://shrek.unideb.hu/~tengely/crypto/section-8.html)\n",
    "\n",
    "---"
   ],
   "id": "a421b9117c479b0b"
  },
  {
   "metadata": {
    "ExecuteTime": {
     "end_time": "2025-05-28T11:58:31.621983Z",
     "start_time": "2025-05-28T11:58:31.605889Z"
    }
   },
   "cell_type": "code",
   "source": [
    "x = symbols('x')\n",
    "\n",
    "N = 7\n",
    "p = 3\n",
    "q = 41\n",
    "\n",
    "#### a_0 x^n + a_1 x^n-1.....\n",
    "phi = [1, -1, 0, 0, 0, 1, -1]\n",
    "m = [0, -1, 0, 1, 1, -1, 1]\n",
    "g = [1, 0, 1, 0, -1, -1, 0]\n",
    "f = [1, 0, -1, 1, 1, 0, -1]\n",
    "\n",
    "\n",
    "poly_f = Poly(f, x)\n",
    "poly_g = Poly(g, x)\n",
    "poly_m = Poly(m, x)\n",
    "poly_phi = Poly(phi, x)\n",
    "\n",
    "pub_key, prv_key = ntru_generate_keys(N, p, q, poly_g, poly_f)\n",
    "ciphertext = ntru_encryption(pub_key, poly_phi, poly_m)\n",
    "poly_d = ntru_decryption(pub_key, prv_key, ciphertext)\n",
    "\n",
    "[f, Fp] = prv_key\n",
    "[N,p, q, h] = pub_key\n",
    "\n",
    "poly_m = Poly(poly_m, x, domain=GF(p))\n",
    "\n",
    "print(\"✉️ Original Message Polynomial:\")\n",
    "print(f\"    m(x) = {poly_m}\\n\")\n",
    "\n",
    "print(\"📬 Decrypted Message Polynomial:\")\n",
    "print(f\"    m'(x) = {poly_d}\")\n",
    "print(\"=\" * 80)"
   ],
   "id": "2b07495ce75e8ef7",
   "outputs": [
    {
     "name": "stdout",
     "output_type": "stream",
     "text": [
      "✉️ Original Message Polynomial:\n",
      "    m(x) = Poly(-x**5 + x**3 + x**2 - x + 1, x, modulus=3)\n",
      "\n",
      "📬 Decrypted Message Polynomial:\n",
      "    m'(x) = Poly(-x**5 + x**3 + x**2 - x + 1, x, modulus=3)\n",
      "================================================================================\n"
     ]
    }
   ],
   "execution_count": 11
  },
  {
   "metadata": {},
   "cell_type": "markdown",
   "source": [
    "### 🔐 Example 3 Reference\n",
    "\n",
    "---\n",
    "\n",
    "📘 **Example taken from the book:**\n",
    "**_Introduction to Cryptography with Coding Theory_**\n",
    "**Authors:** William Trappe, Lawrence C. Washington\n",
    "**Chapter:** 17\n",
    "**Edition:** 2nd Edition\n",
    "**Publisher:** Pearson, 2006\n",
    "\n",
    "---\n",
    "\n",
    "This example is derived from Chapter 17 of the textbook, which covers advanced cryptographic constructions and their mathematical foundations."
   ],
   "id": "245c093f4fd5a625"
  },
  {
   "metadata": {
    "ExecuteTime": {
     "end_time": "2025-05-28T12:09:09.510853Z",
     "start_time": "2025-05-28T12:09:09.493098Z"
    }
   },
   "cell_type": "code",
   "source": [
    "x = symbols('x')\n",
    "\n",
    "N = 5\n",
    "p = 3\n",
    "q = 16\n",
    "\n",
    "#### a_0 x^n + a_1 x^n-1.....\n",
    "phi = [1,-1]\n",
    "m = [1, -1, 1]\n",
    "g = [0, 1, 0, -1, 0]\n",
    "f = [1, 0, 0, 1, -1]\n",
    "\n",
    "\n",
    "poly_f = Poly(f, x)\n",
    "poly_g = Poly(g, x)\n",
    "poly_m = Poly(m, x)\n",
    "poly_phi = Poly(phi, x)\n",
    "\n",
    "pub_key, prv_key = ntru_generate_keys(N, p, q, poly_g, poly_f)\n",
    "ciphertext = ntru_encryption(pub_key, poly_phi, poly_m)\n",
    "poly_d = ntru_decryption(pub_key, prv_key, ciphertext)\n",
    "\n",
    "[f, Fp] = prv_key\n",
    "[N,p, q, h] = pub_key\n",
    "\n",
    "poly_m = Poly(poly_m, x, domain=GF(p))\n",
    "\n",
    "print(\"✉️ Original Message Polynomial:\")\n",
    "print(f\"    m(x) = {poly_m}\\n\")\n",
    "\n",
    "print(\"📬 Decrypted Message Polynomial:\")\n",
    "print(f\"    m'(x) = {poly_d}\")\n",
    "print(\"=\" * 80)"
   ],
   "id": "5729bff91d65d192",
   "outputs": [
    {
     "name": "stdout",
     "output_type": "stream",
     "text": [
      "✉️ Original Message Polynomial:\n",
      "    m(x) = Poly(x**2 - x + 1, x, modulus=3)\n",
      "\n",
      "📬 Decrypted Message Polynomial:\n",
      "    m'(x) = Poly(x**2 - x + 1, x, modulus=3)\n",
      "================================================================================\n"
     ]
    }
   ],
   "execution_count": 13
  },
  {
   "metadata": {},
   "cell_type": "code",
   "outputs": [],
   "execution_count": null,
   "source": "",
   "id": "cedf618b697e89b9"
  }
 ],
 "metadata": {
  "kernelspec": {
   "display_name": "Python 3",
   "language": "python",
   "name": "python3"
  },
  "language_info": {
   "codemirror_mode": {
    "name": "ipython",
    "version": 2
   },
   "file_extension": ".py",
   "mimetype": "text/x-python",
   "name": "python",
   "nbconvert_exporter": "python",
   "pygments_lexer": "ipython2",
   "version": "2.7.6"
  }
 },
 "nbformat": 4,
 "nbformat_minor": 5
}
