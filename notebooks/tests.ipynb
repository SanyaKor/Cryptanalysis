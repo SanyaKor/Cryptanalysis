{
 "cells": [
  {
   "metadata": {},
   "cell_type": "markdown",
   "source": [
    "### 🧭 Overview\n",
    "\n",
    "This notebook contains tests and visual demonstrations for two lattice basis reduction algorithms:\n",
    "\n",
    "- [**`reduce_2d_basis`**](#📐-2D-Lattice-Basis-Reduction-–-Interactive-Notebook):\n",
    "  [View source](../lattice_methods/basis_reduction_2d.py)\n",
    "\n",
    "- [**`lll_reduce`**](#📐-LLL-Algorithm:-Wikipedia-Based-Implementation-&-Tests):\n",
    "  [View source](../lattice_methods/lll.py)\n",
    "  Based on [Wikipedia](https://en.wikipedia.org/wiki/Lenstra–Lenstra–Lovász_lattice_basis_reduction_algorithm)\n",
    "\n",
    "Both aim to shorten basis vectors while preserving the same lattice.\n",
    "We compare their results, run randomized tests, and validate correctness through lattice checks and vector norms."
   ],
   "id": "d4a62c786e35ceb8"
  },
  {
   "metadata": {
    "collapsed": true,
    "ExecuteTime": {
     "end_time": "2025-05-28T10:55:24.400144Z",
     "start_time": "2025-05-28T10:55:24.018061Z"
    }
   },
   "cell_type": "code",
   "source": [
    "from tests import t_br2d\n",
    "from tests import generate_random_bases\n",
    "from tests import t_brlll\n",
    "from lattice_methods import are_bases_equal_2d\n",
    "\n",
    "sample = generate_random_bases(10, 2)\n",
    "t_br2d(sample, True);"
   ],
   "id": "initial_id",
   "outputs": [
    {
     "name": "stdout",
     "output_type": "stream",
     "text": [
      "✅ Test 1: PASSED\n",
      "Initial basis: b1 = [-48  37], b2 = [28 48]\n",
      "Reduced basis: b1 = [28 48], b2 = [-48  37]\n",
      "✅ Test 2: PASSED\n",
      "Initial basis: b1 = [-29 -19], b2 = [-19  37]\n",
      "Reduced basis: b1 = [-29 -19], b2 = [-19  37]\n",
      "✅ Test 3: PASSED\n",
      "Initial basis: b1 = [32 50], b2 = [-39  18]\n",
      "Reduced basis: b1 = [-39  18], b2 = [32 50]\n",
      "✅ Test 4: PASSED\n",
      "Initial basis: b1 = [-21 -38], b2 = [50 38]\n",
      "Reduced basis: b1 = [29  0], b2 = [  8 -38]\n",
      "✅ Test 5: PASSED\n",
      "Initial basis: b1 = [11 43], b2 = [-25 -36]\n",
      "Reduced basis: b1 = [-14   7], b2 = [-25 -36]\n",
      "✅ Test 6: PASSED\n",
      "Initial basis: b1 = [-49 -29], b2 = [ 21 -28]\n",
      "Reduced basis: b1 = [ 21 -28], b2 = [-49 -29]\n",
      "✅ Test 7: PASSED\n",
      "Initial basis: b1 = [-33  19], b2 = [41 14]\n",
      "Reduced basis: b1 = [ 8 33], b2 = [-33  19]\n",
      "✅ Test 8: PASSED\n",
      "Initial basis: b1 = [-50 -50], b2 = [ 25 -42]\n",
      "Reduced basis: b1 = [ 25 -42], b2 = [-50 -50]\n",
      "✅ Test 9: PASSED\n",
      "Initial basis: b1 = [-32 -30], b2 = [-41  31]\n",
      "Reduced basis: b1 = [-32 -30], b2 = [-41  31]\n",
      "✅ Test 10: PASSED\n",
      "Initial basis: b1 = [-10 -26], b2 = [ 24 -29]\n",
      "Reduced basis: b1 = [-10 -26], b2 = [34 -3]\n",
      "\n",
      "📊 10/10 tests passed.\n"
     ]
    }
   ],
   "execution_count": 1
  },
  {
   "metadata": {},
   "cell_type": "markdown",
   "source": [
    "### ✅ LLL Reduction Tests (2D)\n",
    "\n",
    "We test whether different 2D basis reduction methods (e.g. LLL, classical) produce equivalent bases.\n",
    "\n",
    "Bases are normalized (up to sign and order) before comparison.\n",
    "\n",
    "Matches confirm correct lattice reduction."
   ],
   "id": "9894896fcedb72d4"
  },
  {
   "metadata": {
    "ExecuteTime": {
     "end_time": "2025-05-28T10:55:24.420643Z",
     "start_time": "2025-05-28T10:55:24.411527Z"
    }
   },
   "cell_type": "code",
   "source": [
    "sample = generate_random_bases(10, 2)\n",
    "t_brlll(sample, True);"
   ],
   "id": "57e1f8ff77b1ed1e",
   "outputs": [
    {
     "name": "stdout",
     "output_type": "stream",
     "text": [
      "✅ Test 1: PASSED\n",
      "Initial basis:\n",
      "  [-15 -13]\n",
      "  [11 12]\n",
      "Reduced basis:\n",
      "  [-4 -1]\n",
      "  [ 1 -9]\n",
      "\n",
      "✅ Test 2: PASSED\n",
      "Initial basis:\n",
      "  [41 20]\n",
      "  [-38 -15]\n",
      "Reduced basis:\n",
      "  [3 5]\n",
      "  [ 20 -15]\n",
      "\n",
      "✅ Test 3: PASSED\n",
      "Initial basis:\n",
      "  [-43 -48]\n",
      "  [ 22 -20]\n",
      "Reduced basis:\n",
      "  [ 22 -20]\n",
      "  [-43 -48]\n",
      "\n",
      "✅ Test 4: PASSED\n",
      "Initial basis:\n",
      "  [-36 -38]\n",
      "  [45 50]\n",
      "Reduced basis:\n",
      "  [-9 -2]\n",
      "  [ 0 10]\n",
      "\n",
      "✅ Test 5: PASSED\n",
      "Initial basis:\n",
      "  [ 29 -49]\n",
      "  [-45 -15]\n",
      "Reduced basis:\n",
      "  [-45 -15]\n",
      "  [ 29 -49]\n",
      "\n",
      "✅ Test 6: PASSED\n",
      "Initial basis:\n",
      "  [ 22 -42]\n",
      "  [44 50]\n",
      "Reduced basis:\n",
      "  [ 22 -42]\n",
      "  [66  8]\n",
      "\n",
      "✅ Test 7: PASSED\n",
      "Initial basis:\n",
      "  [-10 -37]\n",
      "  [ 15 -23]\n",
      "Reduced basis:\n",
      "  [ 15 -23]\n",
      "  [-25 -14]\n",
      "\n",
      "✅ Test 8: PASSED\n",
      "Initial basis:\n",
      "  [-36  22]\n",
      "  [34 42]\n",
      "Reduced basis:\n",
      "  [-36  22]\n",
      "  [34 42]\n",
      "\n",
      "✅ Test 9: PASSED\n",
      "Initial basis:\n",
      "  [-20  39]\n",
      "  [ 25 -18]\n",
      "Reduced basis:\n",
      "  [ 5 21]\n",
      "  [-30  -3]\n",
      "\n",
      "✅ Test 10: PASSED\n",
      "Initial basis:\n",
      "  [34 21]\n",
      "  [10 14]\n",
      "Reduced basis:\n",
      "  [10 14]\n",
      "  [14 -7]\n",
      "\n",
      "\n",
      "📊 10/10 tests passed.\n"
     ]
    }
   ],
   "execution_count": 2
  },
  {
   "metadata": {},
   "cell_type": "markdown",
   "source": [
    "### 🔍 LLL vs Basic 2D Reduction\n",
    "\n",
    "This section compares a basic 2D basis reduction algorithm with the LLL method.\n",
    "\n",
    "Both aim to shorten vectors while preserving the same lattice.\n",
    "Tests check:\n",
    "\n",
    "- Lattice equivalence\n",
    "- Vector length reduction\n",
    "- Differences in sign/order\n",
    "- Consistency across inputs"
   ],
   "id": "28c5131b6045f548"
  },
  {
   "metadata": {
    "ExecuteTime": {
     "end_time": "2025-05-28T10:55:24.598230Z",
     "start_time": "2025-05-28T10:55:24.586397Z"
    }
   },
   "cell_type": "code",
   "source": [
    "basis_list = (generate_random_bases(10, 2))\n",
    "test_results_br2d = t_br2d(basis_list)\n",
    "test_results_brlll = t_brlll(basis_list)\n",
    "\n",
    "tests_amount = 10\n",
    "tests_passed = 0\n",
    "\n",
    "for i in range(len(test_results_br2d)):\n",
    "    original_b1, original_b2 = basis_list[i]\n",
    "\n",
    "    res_2d = test_results_br2d[i]\n",
    "    res_lll = test_results_brlll[i]\n",
    "\n",
    "    b1_2d, b2_2d = res_2d[\"b1\"], res_2d[\"b2\"]\n",
    "    b1_lll, b2_lll = res_lll[\"basis\"]\n",
    "    match = are_bases_equal_2d([b1_2d,b2_2d], [b1_lll, b2_lll])\n",
    "\n",
    "    print(f\"\\n🔹 Test {i + 1}\")\n",
    "    print(f\"   Given basis: b1 = {original_b1}, b2 = {original_b2}\")\n",
    "\n",
    "    if match:\n",
    "        print(\"   ✅ MATCH\")\n",
    "        tests_passed += 1\n",
    "    else:\n",
    "        print(\"   ❌ DIFFERENT\")\n",
    "\n",
    "    print(f\"   br2d  → b1 = {b1_2d}, b2 = {b2_2d}\")\n",
    "    print(f\"   brlll → b1 = {b1_lll}, b2 = {b2_lll}\")\n",
    "\n",
    "print(f\"\\n📊 {tests_passed}/{tests_amount} tests passed.\")"
   ],
   "id": "c19a7267bd4aa757",
   "outputs": [
    {
     "name": "stdout",
     "output_type": "stream",
     "text": [
      "\n",
      "🔹 Test 1\n",
      "   Given basis: b1 = [12 38], b2 = [-15 -27]\n",
      "   ✅ MATCH\n",
      "   br2d  → b1 = [-3 11], b2 = [-21  -5]\n",
      "   brlll → b1 = [-3, 11], b2 = [21, 5]\n",
      "\n",
      "🔹 Test 2\n",
      "   Given basis: b1 = [-43  31], b2 = [-18  11]\n",
      "   ✅ MATCH\n",
      "   br2d  → b1 = [4 7], b2 = [11 -2]\n",
      "   brlll → b1 = [4, 7], b2 = [11, -2]\n",
      "\n",
      "🔹 Test 3\n",
      "   Given basis: b1 = [ 10 -29], b2 = [-49  32]\n",
      "   ✅ MATCH\n",
      "   br2d  → b1 = [ 10 -29], b2 = [-29 -26]\n",
      "   brlll → b1 = [10, -29], b2 = [-29, -26]\n",
      "\n",
      "🔹 Test 4\n",
      "   Given basis: b1 = [-13  45], b2 = [-23  14]\n",
      "   ✅ MATCH\n",
      "   br2d  → b1 = [-23  14], b2 = [10 31]\n",
      "   brlll → b1 = [-23, 14], b2 = [10, 31]\n",
      "\n",
      "🔹 Test 5\n",
      "   Given basis: b1 = [-18  37], b2 = [ 16 -24]\n",
      "   ✅ MATCH\n",
      "   br2d  → b1 = [12  2], b2 = [-2 13]\n",
      "   brlll → b1 = [-2, 13], b2 = [-12, -2]\n",
      "\n",
      "🔹 Test 6\n",
      "   Given basis: b1 = [-16 -22], b2 = [-24 -41]\n",
      "   ✅ MATCH\n",
      "   br2d  → b1 = [8 3], b2 = [  8 -13]\n",
      "   brlll → b1 = [8, 3], b2 = [8, -13]\n",
      "\n",
      "🔹 Test 7\n",
      "   Given basis: b1 = [-24  11], b2 = [45 34]\n",
      "   ✅ MATCH\n",
      "   br2d  → b1 = [-24  11], b2 = [21 45]\n",
      "   brlll → b1 = [-24, 11], b2 = [21, 45]\n",
      "\n",
      "🔹 Test 8\n",
      "   Given basis: b1 = [ 46 -26], b2 = [ 22 -34]\n",
      "   ✅ MATCH\n",
      "   br2d  → b1 = [24  8], b2 = [ 22 -34]\n",
      "   brlll → b1 = [-24, -8], b2 = [22, -34]\n",
      "\n",
      "🔹 Test 9\n",
      "   Given basis: b1 = [-18  14], b2 = [-13 -43]\n",
      "   ✅ MATCH\n",
      "   br2d  → b1 = [-18  14], b2 = [-31 -29]\n",
      "   brlll → b1 = [-18, 14], b2 = [-31, -29]\n",
      "\n",
      "🔹 Test 10\n",
      "   Given basis: b1 = [ 40 -36], b2 = [37 36]\n",
      "   ✅ MATCH\n",
      "   br2d  → b1 = [37 36], b2 = [ 40 -36]\n",
      "   brlll → b1 = [40, -36], b2 = [37, 36]\n",
      "\n",
      "📊 10/10 tests passed.\n"
     ]
    }
   ],
   "execution_count": 3
  },
  {
   "metadata": {
    "ExecuteTime": {
     "end_time": "2025-05-28T10:55:24.672608Z",
     "start_time": "2025-05-28T10:55:24.670877Z"
    }
   },
   "cell_type": "code",
   "source": "",
   "id": "9e7cc4d325c3781f",
   "outputs": [],
   "execution_count": null
  },
  {
   "metadata": {
    "ExecuteTime": {
     "end_time": "2025-05-28T10:16:34.396764Z",
     "start_time": "2025-05-28T10:16:34.393349Z"
    }
   },
   "cell_type": "code",
   "source": [
    "# basis = [\n",
    "#     np.array([1, -1, 3]),\n",
    "#     np.array([1,  0, 5]),\n",
    "#     np.array([1,  2, 6])\n",
    "# ]\n",
    "#\n",
    "# test_results_br2d = lll_reduce(basis)\n",
    "# print(test_results_br2d)"
   ],
   "id": "64d59ff55ebf7fa6",
   "outputs": [],
   "execution_count": 6
  },
  {
   "metadata": {
    "ExecuteTime": {
     "end_time": "2025-05-28T10:28:20.750852Z",
     "start_time": "2025-05-28T10:28:20.741435Z"
    }
   },
   "cell_type": "code",
   "source": [
    "# import numpy as np\n",
    "# # b1 = np.array([-24, -12])\n",
    "# # b2 = np.array([-20,  43])\n",
    "#\n",
    "# b1 = np.array([ 36, -32])\n",
    "# b2 = np.array([-38,  15])\n",
    "#\n",
    "# sampe = [b1, b2]\n",
    "# sample = generate_random_bases(1, 2)\n",
    "# tests_br2d([sampe], False);"
   ],
   "id": "cb2e6de499b9d7b",
   "outputs": [],
   "execution_count": 14
  },
  {
   "metadata": {},
   "cell_type": "code",
   "outputs": [],
   "execution_count": null,
   "source": "",
   "id": "a4769ab5c5e9209c"
  }
 ],
 "metadata": {
  "kernelspec": {
   "display_name": "Python 3",
   "language": "python",
   "name": "python3"
  },
  "language_info": {
   "codemirror_mode": {
    "name": "ipython",
    "version": 2
   },
   "file_extension": ".py",
   "mimetype": "text/x-python",
   "name": "python",
   "nbconvert_exporter": "python",
   "pygments_lexer": "ipython2",
   "version": "2.7.6"
  }
 },
 "nbformat": 4,
 "nbformat_minor": 5
}
