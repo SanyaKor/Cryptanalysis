{
 "cells": [
  {
   "metadata": {},
   "cell_type": "markdown",
   "source": [
    "### 🧭 Overview\n",
    "\n",
    "This notebook contains tests and visual demonstrations for two lattice basis reduction algorithms:\n",
    "\n",
    "- [**`reduce_2d_basis`**](#📐-2D-Lattice-Basis-Reduction-–-Interactive-Notebook):\n",
    "  [View source](../lattice_methods/basis_reduction_2d.py)\n",
    "\n",
    "- [**`lll_reduce`**](#📐-LLL-Algorithm:-Wikipedia-Based-Implementation-&-Tests):\n",
    "  [View source](../lattice_methods/lll.py)\n",
    "  Based on [Wikipedia](https://en.wikipedia.org/wiki/Lenstra–Lenstra–Lovász_lattice_basis_reduction_algorithm)\n",
    "\n",
    "Both aim to shorten basis vectors while preserving the same lattice.\n",
    "We compare their results, run randomized tests, and validate correctness through lattice checks and vector norms."
   ],
   "id": "d4a62c786e35ceb8"
  },
  {
   "metadata": {
    "collapsed": true,
    "ExecuteTime": {
     "end_time": "2025-05-25T17:09:55.548897Z",
     "start_time": "2025-05-25T17:09:55.110219Z"
    }
   },
   "cell_type": "code",
   "source": [
    "from tests import tests_br2d\n",
    "from tests import generate_random_bases\n",
    "from tests import tests_brlll\n",
    "from lattice_methods import are_bases_equal_2d\n",
    "\n",
    "sample = generate_random_bases(10, 2)\n",
    "tests_br2d(sample, True);"
   ],
   "id": "initial_id",
   "outputs": [
    {
     "name": "stdout",
     "output_type": "stream",
     "text": [
      "✅ Test 1: PASSED\n",
      "Initial basis: b1 = [ 46 -40], b2 = [-29 -37]\n",
      "Reduced basis: b1 = [-29 -37], b2 = [ 46 -40]\n",
      "✅ Test 2: PASSED\n",
      "Initial basis: b1 = [-15 -46], b2 = [-10 -12]\n",
      "Reduced basis: b1 = [-10 -12], b2 = [ 15 -10]\n",
      "✅ Test 3: PASSED\n",
      "Initial basis: b1 = [-35  47], b2 = [27 14]\n",
      "Reduced basis: b1 = [27 14], b2 = [-35  47]\n",
      "✅ Test 4: PASSED\n",
      "Initial basis: b1 = [18 34], b2 = [-43 -18]\n",
      "Reduced basis: b1 = [-25  16], b2 = [18 34]\n",
      "✅ Test 5: PASSED\n",
      "Initial basis: b1 = [-33 -49], b2 = [ 12 -39]\n",
      "Reduced basis: b1 = [ 12 -39], b2 = [-45 -10]\n",
      "✅ Test 6: PASSED\n",
      "Initial basis: b1 = [-29 -41], b2 = [-37  23]\n",
      "Reduced basis: b1 = [-37  23], b2 = [-29 -41]\n",
      "✅ Test 7: PASSED\n",
      "Initial basis: b1 = [ 37 -34], b2 = [-31 -16]\n",
      "Reduced basis: b1 = [-31 -16], b2 = [ 37 -34]\n",
      "✅ Test 8: PASSED\n",
      "Initial basis: b1 = [ 15 -17], b2 = [17 11]\n",
      "Reduced basis: b1 = [17 11], b2 = [ 15 -17]\n",
      "✅ Test 9: PASSED\n",
      "Initial basis: b1 = [-32  32], b2 = [ 38 -37]\n",
      "Reduced basis: b1 = [4 2], b2 = [ 2 -7]\n",
      "✅ Test 10: PASSED\n",
      "Initial basis: b1 = [-45  20], b2 = [-16 -18]\n",
      "Reduced basis: b1 = [-16 -18], b2 = [-29  38]\n",
      "\n",
      "📊 10/10 tests passed.\n"
     ]
    }
   ],
   "execution_count": 1
  },
  {
   "metadata": {},
   "cell_type": "markdown",
   "source": [
    "### ✅ LLL Reduction Tests (2D)\n",
    "\n",
    "We test whether different 2D basis reduction methods (e.g. LLL, classical) produce equivalent bases.\n",
    "\n",
    "Bases are normalized (up to sign and order) before comparison.\n",
    "\n",
    "Matches confirm correct lattice reduction."
   ],
   "id": "9894896fcedb72d4"
  },
  {
   "metadata": {
    "ExecuteTime": {
     "end_time": "2025-05-25T17:09:56.994974Z",
     "start_time": "2025-05-25T17:09:56.984951Z"
    }
   },
   "cell_type": "code",
   "source": [
    "sample = generate_random_bases(10, 2)\n",
    "tests_brlll(sample, True);"
   ],
   "id": "57e1f8ff77b1ed1e",
   "outputs": [
    {
     "name": "stdout",
     "output_type": "stream",
     "text": [
      "✅ Test 1: PASSED\n",
      "Initial basis:\n",
      "  [-43  28]\n",
      "  [33 23]\n",
      "Reduced basis:\n",
      "  [33 23]\n",
      "  [-43  28]\n",
      "\n",
      "✅ Test 2: PASSED\n",
      "Initial basis:\n",
      "  [ 32 -27]\n",
      "  [-36 -14]\n",
      "Reduced basis:\n",
      "  [ 32 -27]\n",
      "  [-36 -14]\n",
      "\n",
      "✅ Test 3: PASSED\n",
      "Initial basis:\n",
      "  [-35  38]\n",
      "  [42 36]\n",
      "Reduced basis:\n",
      "  [-35  38]\n",
      "  [42 36]\n",
      "\n",
      "✅ Test 4: PASSED\n",
      "Initial basis:\n",
      "  [12 49]\n",
      "  [-30  13]\n",
      "Reduced basis:\n",
      "  [-30  13]\n",
      "  [12 49]\n",
      "\n",
      "✅ Test 5: PASSED\n",
      "Initial basis:\n",
      "  [49 25]\n",
      "  [-31 -40]\n",
      "Reduced basis:\n",
      "  [ 18 -15]\n",
      "  [31 40]\n",
      "\n",
      "✅ Test 6: PASSED\n",
      "Initial basis:\n",
      "  [-18  30]\n",
      "  [-23  10]\n",
      "Reduced basis:\n",
      "  [ -5 -20]\n",
      "  [-23  10]\n",
      "\n",
      "✅ Test 7: PASSED\n",
      "Initial basis:\n",
      "  [-13 -23]\n",
      "  [-12 -14]\n",
      "Reduced basis:\n",
      "  [1 9]\n",
      "  [-10   4]\n",
      "\n",
      "✅ Test 8: PASSED\n",
      "Initial basis:\n",
      "  [-10 -48]\n",
      "  [27 33]\n",
      "Reduced basis:\n",
      "  [ 17 -15]\n",
      "  [-27 -33]\n",
      "\n",
      "✅ Test 9: PASSED\n",
      "Initial basis:\n",
      "  [14 12]\n",
      "  [-31 -20]\n",
      "Reduced basis:\n",
      "  [-3  4]\n",
      "  [14 12]\n",
      "\n",
      "✅ Test 10: PASSED\n",
      "Initial basis:\n",
      "  [-43 -46]\n",
      "  [-19 -17]\n",
      "Reduced basis:\n",
      "  [ -5 -12]\n",
      "  [-9  7]\n",
      "\n",
      "\n",
      "📊 10/10 tests passed.\n"
     ]
    }
   ],
   "execution_count": 2
  },
  {
   "metadata": {},
   "cell_type": "markdown",
   "source": [
    "### 🔍 LLL vs Basic 2D Reduction\n",
    "\n",
    "This section compares a basic 2D basis reduction algorithm with the LLL method.\n",
    "\n",
    "Both aim to shorten vectors while preserving the same lattice.\n",
    "Tests check:\n",
    "\n",
    "- Lattice equivalence\n",
    "- Vector length reduction\n",
    "- Differences in sign/order\n",
    "- Consistency across inputs"
   ],
   "id": "28c5131b6045f548"
  },
  {
   "metadata": {
    "ExecuteTime": {
     "end_time": "2025-05-25T17:09:57.682283Z",
     "start_time": "2025-05-25T17:09:57.672625Z"
    }
   },
   "cell_type": "code",
   "source": [
    "basis_list = (generate_random_bases(10, 2))\n",
    "test_results_br2d = tests_br2d(basis_list)\n",
    "test_results_brlll = tests_brlll(basis_list)\n",
    "\n",
    "tests_amount = 10\n",
    "tests_passed = 0\n",
    "\n",
    "for i in range(len(test_results_br2d)):\n",
    "    original_b1, original_b2 = basis_list[i]\n",
    "\n",
    "    res_2d = test_results_br2d[i]\n",
    "    res_lll = test_results_brlll[i]\n",
    "\n",
    "    b1_2d, b2_2d = res_2d[\"b1\"], res_2d[\"b2\"]\n",
    "    b1_lll, b2_lll = res_lll[\"basis\"]\n",
    "    match = are_bases_equal_2d([b1_2d,b2_2d], [b1_lll, b2_lll])\n",
    "\n",
    "    print(f\"\\n🔹 Test {i + 1}\")\n",
    "    print(f\"   Given basis: b1 = {original_b1}, b2 = {original_b2}\")\n",
    "\n",
    "    if match:\n",
    "        print(\"   ✅ MATCH\")\n",
    "        tests_passed += 1\n",
    "    else:\n",
    "        print(\"   ❌ DIFFERENT\")\n",
    "\n",
    "    print(f\"   br2d  → b1 = {b1_2d}, b2 = {b2_2d}\")\n",
    "    print(f\"   brlll → b1 = {b1_lll}, b2 = {b2_lll}\")\n",
    "\n",
    "print(f\"\\n📊 {tests_passed}/{tests_amount} tests passed.\")"
   ],
   "id": "c19a7267bd4aa757",
   "outputs": [
    {
     "name": "stdout",
     "output_type": "stream",
     "text": [
      "\n",
      "🔹 Test 1\n",
      "   Given basis: b1 = [ 39 -39], b2 = [ 49 -19]\n",
      "   ✅ MATCH\n",
      "   br2d  → b1 = [-10 -20], b2 = [ 49 -19]\n",
      "   brlll → b1 = [10, 20], b2 = [49, -19]\n",
      "\n",
      "🔹 Test 2\n",
      "   Given basis: b1 = [-43 -49], b2 = [47 20]\n",
      "   ✅ MATCH\n",
      "   br2d  → b1 = [  4 -29], b2 = [47 20]\n",
      "   brlll → b1 = [4, -29], b2 = [-47, -20]\n",
      "\n",
      "🔹 Test 3\n",
      "   Given basis: b1 = [ 23 -25], b2 = [ 20 -33]\n",
      "   ✅ MATCH\n",
      "   br2d  → b1 = [-3 -8], b2 = [29 -9]\n",
      "   brlll → b1 = [-3, -8], b2 = [29, -9]\n",
      "\n",
      "🔹 Test 4\n",
      "   Given basis: b1 = [-19  12], b2 = [-30 -36]\n",
      "   ✅ MATCH\n",
      "   br2d  → b1 = [-19  12], b2 = [-30 -36]\n",
      "   brlll → b1 = [-19, 12], b2 = [-30, -36]\n",
      "\n",
      "🔹 Test 5\n",
      "   Given basis: b1 = [-20 -32], b2 = [-43 -10]\n",
      "   ✅ MATCH\n",
      "   br2d  → b1 = [-23  22], b2 = [-20 -32]\n",
      "   brlll → b1 = [-23, 22], b2 = [-20, -32]\n",
      "\n",
      "🔹 Test 6\n",
      "   Given basis: b1 = [ 31 -26], b2 = [33 23]\n",
      "   ✅ MATCH\n",
      "   br2d  → b1 = [33 23], b2 = [ 31 -26]\n",
      "   brlll → b1 = [31, -26], b2 = [33, 23]\n",
      "\n",
      "🔹 Test 7\n",
      "   Given basis: b1 = [-23  45], b2 = [ 24 -15]\n",
      "   ✅ MATCH\n",
      "   br2d  → b1 = [ 24 -15], b2 = [25 15]\n",
      "   brlll → b1 = [24, -15], b2 = [25, 15]\n",
      "\n",
      "🔹 Test 8\n",
      "   Given basis: b1 = [-20  44], b2 = [15 49]\n",
      "   ✅ MATCH\n",
      "   br2d  → b1 = [35  5], b2 = [-20  44]\n",
      "   brlll → b1 = [35, 5], b2 = [-20, 44]\n",
      "\n",
      "🔹 Test 9\n",
      "   Given basis: b1 = [48 15], b2 = [-28  40]\n",
      "   ✅ MATCH\n",
      "   br2d  → b1 = [-28  40], b2 = [48 15]\n",
      "   brlll → b1 = [48, 15], b2 = [-28, 40]\n",
      "\n",
      "🔹 Test 10\n",
      "   Given basis: b1 = [ 12 -26], b2 = [ 22 -45]\n",
      "   ✅ MATCH\n",
      "   br2d  → b1 = [4 2], b2 = [-2  7]\n",
      "   brlll → b1 = [4, 2], b2 = [-2, 7]\n",
      "\n",
      "📊 10/10 tests passed.\n"
     ]
    }
   ],
   "execution_count": 3
  },
  {
   "metadata": {
    "ExecuteTime": {
     "end_time": "2025-05-25T17:09:58.101424Z",
     "start_time": "2025-05-25T17:09:58.099088Z"
    }
   },
   "cell_type": "code",
   "source": "",
   "id": "9e7cc4d325c3781f",
   "outputs": [],
   "execution_count": null
  },
  {
   "metadata": {
    "ExecuteTime": {
     "end_time": "2025-05-26T15:29:54.263904Z",
     "start_time": "2025-05-26T15:29:54.260570Z"
    }
   },
   "cell_type": "code",
   "source": [
    "# basis = [\n",
    "#     np.array([1, -1, 3]),\n",
    "#     np.array([1,  0, 5]),\n",
    "#     np.array([1,  2, 6])\n",
    "# ]\n",
    "#\n",
    "# test_results_br2d = lll_reduce(basis)\n",
    "# print(test_results_br2d)"
   ],
   "id": "64d59ff55ebf7fa6",
   "outputs": [],
   "execution_count": 1
  }
 ],
 "metadata": {
  "kernelspec": {
   "display_name": "Python 3",
   "language": "python",
   "name": "python3"
  },
  "language_info": {
   "codemirror_mode": {
    "name": "ipython",
    "version": 2
   },
   "file_extension": ".py",
   "mimetype": "text/x-python",
   "name": "python",
   "nbconvert_exporter": "python",
   "pygments_lexer": "ipython2",
   "version": "2.7.6"
  }
 },
 "nbformat": 4,
 "nbformat_minor": 5
}
