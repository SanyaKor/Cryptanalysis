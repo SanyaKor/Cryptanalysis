{
 "cells": [
  {
   "metadata": {},
   "cell_type": "markdown",
   "source": [
    "### 🧭 Overview\n",
    "\n",
    "This notebook contains tests and visual demonstrations for two lattice basis reduction algorithms:\n",
    "\n",
    "- [**`reduce_2d_basis`**](#📐-2D-Lattice-Basis-Reduction-–-Interactive-Notebook):\n",
    "  [View source](../lattice_methods/basis_reduction_2d.py)\n",
    "\n",
    "- [**`lll_reduce`**](#📐-LLL-Algorithm:-Wikipedia-Based-Implementation-&-Tests):\n",
    "  [View source](../lattice_methods/lll.py)\n",
    "  Based on [Wikipedia](https://en.wikipedia.org/wiki/Lenstra–Lenstra–Lovász_lattice_basis_reduction_algorithm)\n",
    "\n",
    "Both aim to shorten basis vectors while preserving the same lattice.\n",
    "We compare their results, run randomized tests, and validate correctness through lattice checks and vector norms."
   ],
   "id": "d4a62c786e35ceb8"
  },
  {
   "metadata": {
    "collapsed": true,
    "ExecuteTime": {
     "end_time": "2025-06-02T16:09:44.583946Z",
     "start_time": "2025-06-02T16:09:44.535809Z"
    }
   },
   "cell_type": "code",
   "source": [
    "from tests import tests_br2d\n",
    "from tests import generate_random_bases\n",
    "from tests import tests_brlll\n",
    "from lattice_methods import are_bases_equal_2d\n",
    "\n",
    "\n",
    "sample = generate_random_bases(10, 2)\n",
    "tests_br2d(sample, True);"
   ],
   "id": "initial_id",
   "outputs": [
    {
     "name": "stdout",
     "output_type": "stream",
     "text": [
      "✅ Test 1: PASSED\n",
      "Initial basis: b1 = [ 33 -23], b2 = [-40 -22]\n",
      "Reduced basis: b1 = [ 33 -23], b2 = [ -7 -45]\n",
      "✅ Test 2: PASSED\n",
      "Initial basis: b1 = [-20  29], b2 = [ 45 -12]\n",
      "Reduced basis: b1 = [25 17], b2 = [-20  29]\n",
      "✅ Test 3: PASSED\n",
      "Initial basis: b1 = [36 23], b2 = [ 47 -43]\n",
      "Reduced basis: b1 = [36 23], b2 = [ 47 -43]\n",
      "✅ Test 4: PASSED\n",
      "Initial basis: b1 = [-40 -43], b2 = [ 34 -19]\n",
      "Reduced basis: b1 = [ 34 -19], b2 = [-40 -43]\n",
      "✅ Test 5: PASSED\n",
      "Initial basis: b1 = [-46 -20], b2 = [-41 -45]\n",
      "Reduced basis: b1 = [  5 -25], b2 = [-46 -20]\n",
      "✅ Test 6: PASSED\n",
      "Initial basis: b1 = [-31 -31], b2 = [11 22]\n",
      "Reduced basis: b1 = [-9 13], b2 = [20  9]\n",
      "✅ Test 7: PASSED\n",
      "Initial basis: b1 = [10 31], b2 = [-15  25]\n",
      "Reduced basis: b1 = [25  6], b2 = [-15  25]\n",
      "✅ Test 8: PASSED\n",
      "Initial basis: b1 = [-31  31], b2 = [25 24]\n",
      "Reduced basis: b1 = [25 24], b2 = [-31  31]\n",
      "✅ Test 9: PASSED\n",
      "Initial basis: b1 = [-46 -10], b2 = [13 47]\n",
      "Reduced basis: b1 = [-46 -10], b2 = [13 47]\n",
      "✅ Test 10: PASSED\n",
      "Initial basis: b1 = [ 30 -46], b2 = [ 50 -40]\n",
      "Reduced basis: b1 = [20  6], b2 = [ 10 -52]\n",
      "\n",
      "📊 10/10 tests passed.\n"
     ]
    }
   ],
   "execution_count": 5
  },
  {
   "metadata": {},
   "cell_type": "markdown",
   "source": [
    "### ✅ LLL Reduction Tests (2D)\n",
    "\n",
    "We test whether different 2D basis reduction methods (e.g. LLL, classical) produce equivalent bases.\n",
    "\n",
    "Bases are normalized (up to sign and order) before comparison.\n",
    "\n",
    "Matches confirm correct lattice reduction."
   ],
   "id": "9894896fcedb72d4"
  },
  {
   "metadata": {
    "ExecuteTime": {
     "end_time": "2025-06-02T16:09:46.328221Z",
     "start_time": "2025-06-02T16:09:46.318908Z"
    }
   },
   "cell_type": "code",
   "source": [
    "sample = generate_random_bases(10, 2)\n",
    "tests_brlll(sample, True);"
   ],
   "id": "57e1f8ff77b1ed1e",
   "outputs": [
    {
     "name": "stdout",
     "output_type": "stream",
     "text": [
      "✅ Test 1: PASSED\n",
      "Initial basis:\n",
      "  [ 25 -15]\n",
      "  [15 31]\n",
      "Reduced basis:\n",
      "  [ 25 -15]\n",
      "  [15 31]\n",
      "\n",
      "✅ Test 2: PASSED\n",
      "Initial basis:\n",
      "  [35 16]\n",
      "  [-30  40]\n",
      "Reduced basis:\n",
      "  [35 16]\n",
      "  [-30  40]\n",
      "\n",
      "✅ Test 3: PASSED\n",
      "Initial basis:\n",
      "  [ 22 -23]\n",
      "  [-10 -28]\n",
      "Reduced basis:\n",
      "  [ 22 -23]\n",
      "  [-10 -28]\n",
      "\n",
      "✅ Test 4: PASSED\n",
      "Initial basis:\n",
      "  [-31  29]\n",
      "  [-33  19]\n",
      "Reduced basis:\n",
      "  [ -2 -10]\n",
      "  [-35   9]\n",
      "\n",
      "✅ Test 5: PASSED\n",
      "Initial basis:\n",
      "  [ 49 -30]\n",
      "  [21 12]\n",
      "Reduced basis:\n",
      "  [21 12]\n",
      "  [ 28 -42]\n",
      "\n",
      "✅ Test 6: PASSED\n",
      "Initial basis:\n",
      "  [-11 -40]\n",
      "  [29 30]\n",
      "Reduced basis:\n",
      "  [ 18 -10]\n",
      "  [-11 -40]\n",
      "\n",
      "✅ Test 7: PASSED\n",
      "Initial basis:\n",
      "  [-15  31]\n",
      "  [-19  19]\n",
      "Reduced basis:\n",
      "  [ -4 -12]\n",
      "  [-23   7]\n",
      "\n",
      "✅ Test 8: PASSED\n",
      "Initial basis:\n",
      "  [ 20 -36]\n",
      "  [-33  35]\n",
      "Reduced basis:\n",
      "  [-13  -1]\n",
      "  [  7 -37]\n",
      "\n",
      "✅ Test 9: PASSED\n",
      "Initial basis:\n",
      "  [ 21 -30]\n",
      "  [ 43 -23]\n",
      "Reduced basis:\n",
      "  [22  7]\n",
      "  [ 21 -30]\n",
      "\n",
      "✅ Test 10: PASSED\n",
      "Initial basis:\n",
      "  [ 22 -43]\n",
      "  [ 35 -37]\n",
      "Reduced basis:\n",
      "  [13  6]\n",
      "  [ 22 -43]\n",
      "\n",
      "\n",
      "📊 10/10 tests passed.\n"
     ]
    }
   ],
   "execution_count": 6
  },
  {
   "metadata": {},
   "cell_type": "markdown",
   "source": [
    "### 🔍 LLL vs Basic 2D Reduction\n",
    "\n",
    "This section compares a basic 2D basis reduction algorithm with the LLL method.\n",
    "\n",
    "Both aim to shorten vectors while preserving the same lattice.\n",
    "Tests check:\n",
    "\n",
    "- Lattice equivalence\n",
    "- Vector length reduction\n",
    "- Differences in sign/order\n",
    "- Consistency across inputs"
   ],
   "id": "28c5131b6045f548"
  },
  {
   "metadata": {
    "ExecuteTime": {
     "end_time": "2025-06-02T16:09:48.071182Z",
     "start_time": "2025-06-02T16:09:48.058387Z"
    }
   },
   "cell_type": "code",
   "source": [
    "basis_list = (generate_random_bases(10, 2))\n",
    "test_results_br2d = tests_br2d(basis_list)\n",
    "test_results_brlll = tests_brlll(basis_list)\n",
    "\n",
    "tests_amount = 10\n",
    "tests_passed = 0\n",
    "\n",
    "for i in range(len(test_results_br2d)):\n",
    "    original_b1, original_b2 = basis_list[i]\n",
    "\n",
    "    res_2d = test_results_br2d[i]\n",
    "    res_lll = test_results_brlll[i]\n",
    "\n",
    "    b1_2d, b2_2d = res_2d[\"b1\"], res_2d[\"b2\"]\n",
    "    b1_lll, b2_lll = res_lll[\"basis\"]\n",
    "    match = are_bases_equal_2d([b1_2d,b2_2d], [b1_lll, b2_lll])\n",
    "\n",
    "    print(f\"\\n🔹 Test {i + 1}\")\n",
    "    print(f\"   Given basis: b1 = {original_b1}, b2 = {original_b2}\")\n",
    "\n",
    "    if match:\n",
    "        print(\"   ✅ MATCH\")\n",
    "        tests_passed += 1\n",
    "    else:\n",
    "        print(\"   ❌ DIFFERENT\")\n",
    "\n",
    "    print(f\"   br2d  → b1 = {b1_2d}, b2 = {b2_2d}\")\n",
    "    print(f\"   brlll → b1 = {b1_lll}, b2 = {b2_lll}\")\n",
    "\n",
    "print(f\"\\n📊 {tests_passed}/{tests_amount} tests passed.\")"
   ],
   "id": "c19a7267bd4aa757",
   "outputs": [
    {
     "name": "stdout",
     "output_type": "stream",
     "text": [
      "\n",
      "🔹 Test 1\n",
      "   Given basis: b1 = [38 27], b2 = [-43  41]\n",
      "   ✅ MATCH\n",
      "   br2d  → b1 = [38 27], b2 = [-43  41]\n",
      "   brlll → b1 = [38, 27], b2 = [-43, 41]\n",
      "\n",
      "🔹 Test 2\n",
      "   Given basis: b1 = [-48 -25], b2 = [-31 -38]\n",
      "   ✅ MATCH\n",
      "   br2d  → b1 = [-17  13], b2 = [-31 -38]\n",
      "   brlll → b1 = [17, -13], b2 = [-31, -38]\n",
      "\n",
      "🔹 Test 3\n",
      "   Given basis: b1 = [-42 -40], b2 = [-22 -20]\n",
      "   ✅ MATCH\n",
      "   br2d  → b1 = [2 0], b2 = [  0 -20]\n",
      "   brlll → b1 = [-2, 0], b2 = [0, 20]\n",
      "\n",
      "🔹 Test 4\n",
      "   Given basis: b1 = [ 42 -50], b2 = [ 41 -29]\n",
      "   ✅ MATCH\n",
      "   br2d  → b1 = [  1 -21], b2 = [40 -8]\n",
      "   brlll → b1 = [-1, 21], b2 = [40, -8]\n",
      "\n",
      "🔹 Test 5\n",
      "   Given basis: b1 = [-20 -15], b2 = [ 24 -45]\n",
      "   ✅ MATCH\n",
      "   br2d  → b1 = [-20 -15], b2 = [ 24 -45]\n",
      "   brlll → b1 = [-20, -15], b2 = [24, -45]\n",
      "\n",
      "🔹 Test 6\n",
      "   Given basis: b1 = [-16  30], b2 = [47 37]\n",
      "   ✅ MATCH\n",
      "   br2d  → b1 = [-16  30], b2 = [47 37]\n",
      "   brlll → b1 = [-16, 30], b2 = [47, 37]\n",
      "\n",
      "🔹 Test 7\n",
      "   Given basis: b1 = [ 28 -31], b2 = [-44  32]\n",
      "   ✅ MATCH\n",
      "   br2d  → b1 = [-16   1], b2 = [ -4 -29]\n",
      "   brlll → b1 = [-16, 1], b2 = [-4, -29]\n",
      "\n",
      "🔹 Test 8\n",
      "   Given basis: b1 = [ 18 -20], b2 = [38 36]\n",
      "   ✅ MATCH\n",
      "   br2d  → b1 = [ 18 -20], b2 = [38 36]\n",
      "   brlll → b1 = [18, -20], b2 = [38, 36]\n",
      "\n",
      "🔹 Test 9\n",
      "   Given basis: b1 = [ 12 -41], b2 = [-23 -38]\n",
      "   ✅ MATCH\n",
      "   br2d  → b1 = [-35   3], b2 = [ 12 -41]\n",
      "   brlll → b1 = [-35, 3], b2 = [12, -41]\n",
      "\n",
      "🔹 Test 10\n",
      "   Given basis: b1 = [ 46 -43], b2 = [-30 -15]\n",
      "   ✅ MATCH\n",
      "   br2d  → b1 = [-30 -15], b2 = [ 16 -58]\n",
      "   brlll → b1 = [-30, -15], b2 = [16, -58]\n",
      "\n",
      "📊 10/10 tests passed.\n"
     ]
    }
   ],
   "execution_count": 7
  },
  {
   "metadata": {
    "ExecuteTime": {
     "end_time": "2025-06-02T16:09:48.714423Z",
     "start_time": "2025-06-02T16:09:48.710685Z"
    }
   },
   "cell_type": "code",
   "source": [
    "# basis = [\n",
    "#     np.array([1, -1, 3]),\n",
    "#     np.array([1,  0, 5]),\n",
    "#     np.array([1,  2, 6])\n",
    "# ]\n",
    "#\n",
    "# test_results_br2d = lll_reduce(basis)\n",
    "# print(test_results_br2d)"
   ],
   "id": "64d59ff55ebf7fa6",
   "outputs": [],
   "execution_count": 8
  },
  {
   "metadata": {},
   "cell_type": "markdown",
   "source": [
    "### 🔐 NTRU Tests\n",
    "\n",
    "---\n",
    "\n",
    "📘 **Example Source:**\n",
    "**_Applied Cryptanalysis: Breaking Ciphers in the Real World_**\n",
    "**Authors:** Mark Stamp, Richard M. Low\n",
    "**Chapter:** 6.7\n",
    "\n",
    "\n",
    "---\n",
    "\n",
    "This example is derived from real-world cryptographic analysis discussed in Chapter 6.7 of the book. It demonstrates core principles of NTRU encryption and its cryptanalytic implications."
   ],
   "id": "45d7fb67fe968df3"
  },
  {
   "metadata": {
    "ExecuteTime": {
     "end_time": "2025-06-02T16:09:49.916090Z",
     "start_time": "2025-06-02T16:09:49.901207Z"
    }
   },
   "cell_type": "code",
   "source": [
    "from lattice_methods import ntru_generate_keys, ntru_encryption, ntru_decryption\n",
    "from sympy import Poly, GF,symbols, ZZ\n",
    "\n",
    "x = symbols('x')\n",
    "\n",
    "N = 11\n",
    "p = 3\n",
    "q = 32\n",
    "\n",
    "\n",
    "phi = [0, 0, -1, 0, 0, -1, 1, 1, 1, 0, -1]\n",
    "m = [1, 1, -1, 0, 0, 0, -1, 1, 0, 0, -1]\n",
    "g = [-1, 0, -1, 0, 0, 1, 0, 1, 1, 0, -1]\n",
    "f = [-1, 1, 0, 0, 1, 0, -1, 0, 1, 1, -1]\n",
    "\n",
    "\n",
    "poly_f = Poly(f, x)\n",
    "poly_g = Poly(g, x)\n",
    "poly_m = Poly(m, x)\n",
    "poly_phi = Poly(phi, x)\n",
    "\n",
    "\n",
    "pub_key, prv_key = ntru_generate_keys(N, p, q, poly_g, poly_f)\n",
    "ciphertext = ntru_encryption(pub_key, poly_phi, poly_m)\n",
    "poly_d = ntru_decryption(pub_key, prv_key, ciphertext)\n",
    "\n",
    "[f, Fp] = prv_key\n",
    "[N,p, q, h] = pub_key\n",
    "\n",
    "poly_m = Poly(poly_m, x, domain=GF(p))\n",
    "\n",
    "\n",
    "print(\"✉️ Original Message Polynomial:\")\n",
    "print(f\"    m(x) = {poly_m}\\n\")\n",
    "\n",
    "print(\"📬 Decrypted Message Polynomial:\")\n",
    "print(f\"    m'(x) = {poly_d}\")\n",
    "print(\"=\" * 80)\n"
   ],
   "id": "9e7cc4d325c3781f",
   "outputs": [
    {
     "name": "stdout",
     "output_type": "stream",
     "text": [
      "✉️ Original Message Polynomial:\n",
      "    m(x) = Poly(x**10 + x**9 - x**8 - x**4 + x**3 - 1, x, modulus=3)\n",
      "\n",
      "📬 Decrypted Message Polynomial:\n",
      "    m'(x) = Poly(x**10 + x**9 - x**8 - x**4 + x**3 - 1, x, modulus=3)\n",
      "================================================================================\n"
     ]
    }
   ],
   "execution_count": 9
  },
  {
   "metadata": {},
   "cell_type": "markdown",
   "source": [
    "## 🧪 Example 2\n",
    "📌 _Numerical values in this example are taken directly from:_ [https://shrek.unideb.hu/~tengely/crypto/section-8.html](https://shrek.unideb.hu/~tengely/crypto/section-8.html)\n",
    "\n",
    "---"
   ],
   "id": "a421b9117c479b0b"
  },
  {
   "metadata": {
    "ExecuteTime": {
     "end_time": "2025-06-02T16:09:51.242427Z",
     "start_time": "2025-06-02T16:09:51.235726Z"
    }
   },
   "cell_type": "code",
   "source": [
    "x = symbols('x')\n",
    "\n",
    "N = 7\n",
    "p = 3\n",
    "q = 41\n",
    "\n",
    "#### a_0 x^n + a_1 x^n-1.....\n",
    "phi = [1, -1, 0, 0, 0, 1, -1]\n",
    "m = [0, -1, 0, 1, 1, -1, 1]\n",
    "g = [1, 0, 1, 0, -1, -1, 0]\n",
    "f = [1, 0, -1, 1, 1, 0, -1]\n",
    "\n",
    "\n",
    "poly_f = Poly(f, x)\n",
    "poly_g = Poly(g, x)\n",
    "poly_m = Poly(m, x)\n",
    "poly_phi = Poly(phi, x)\n",
    "\n",
    "pub_key, prv_key = ntru_generate_keys(N, p, q, poly_g, poly_f)\n",
    "ciphertext = ntru_encryption(pub_key, poly_phi, poly_m)\n",
    "poly_d = ntru_decryption(pub_key, prv_key, ciphertext)\n",
    "\n",
    "[f, Fp] = prv_key\n",
    "[N,p, q, h] = pub_key\n",
    "\n",
    "poly_m = Poly(poly_m, x, domain=GF(p))\n",
    "\n",
    "print(\"✉️ Original Message Polynomial:\")\n",
    "print(f\"    m(x) = {poly_m}\\n\")\n",
    "\n",
    "print(\"📬 Decrypted Message Polynomial:\")\n",
    "print(f\"    m'(x) = {poly_d}\")\n",
    "print(\"=\" * 80)"
   ],
   "id": "2b07495ce75e8ef7",
   "outputs": [
    {
     "name": "stdout",
     "output_type": "stream",
     "text": [
      "✉️ Original Message Polynomial:\n",
      "    m(x) = Poly(-x**5 + x**3 + x**2 - x + 1, x, modulus=3)\n",
      "\n",
      "📬 Decrypted Message Polynomial:\n",
      "    m'(x) = Poly(-x**5 + x**3 + x**2 - x + 1, x, modulus=3)\n",
      "================================================================================\n"
     ]
    }
   ],
   "execution_count": 10
  },
  {
   "metadata": {},
   "cell_type": "markdown",
   "source": [
    "### 🔐 Example 3 Reference\n",
    "\n",
    "---\n",
    "\n",
    "📘 **Example taken from the book:**\n",
    "**_Introduction to Cryptography with Coding Theory_**\n",
    "**Authors:** William Trappe, Lawrence C. Washington\n",
    "**Chapter:** 17\n",
    "**Edition:** 2nd Edition\n",
    "**Publisher:** Pearson, 2006\n",
    "\n",
    "---\n",
    "\n",
    "This example is derived from Chapter 17 of the textbook, which covers advanced cryptographic constructions and their mathematical foundations."
   ],
   "id": "245c093f4fd5a625"
  },
  {
   "metadata": {
    "ExecuteTime": {
     "end_time": "2025-06-02T16:09:52.714663Z",
     "start_time": "2025-06-02T16:09:52.706764Z"
    }
   },
   "cell_type": "code",
   "source": [
    "x = symbols('x')\n",
    "\n",
    "N = 5\n",
    "p = 3\n",
    "q = 16\n",
    "\n",
    "#### a_0 x^n + a_1 x^n-1.....\n",
    "phi = [1,-1]\n",
    "m = [1, -1, 1]\n",
    "g = [0, 1, 0, -1, 0]\n",
    "f = [1, 0, 0, 1, -1]\n",
    "\n",
    "\n",
    "poly_f = Poly(f, x)\n",
    "poly_g = Poly(g, x)\n",
    "poly_m = Poly(m, x)\n",
    "poly_phi = Poly(phi, x)\n",
    "\n",
    "pub_key, prv_key = ntru_generate_keys(N, p, q, poly_g, poly_f)\n",
    "ciphertext = ntru_encryption(pub_key, poly_phi, poly_m)\n",
    "poly_d = ntru_decryption(pub_key, prv_key, ciphertext)\n",
    "\n",
    "[f, Fp] = prv_key\n",
    "[N,p, q, h] = pub_key\n",
    "\n",
    "poly_m = Poly(poly_m, x, domain=GF(p))\n",
    "\n",
    "print(\"✉️ Original Message Polynomial:\")\n",
    "print(f\"    m(x) = {poly_m}\\n\")\n",
    "\n",
    "print(\"📬 Decrypted Message Polynomial:\")\n",
    "print(f\"    m'(x) = {poly_d}\")\n",
    "print(\"=\" * 80)"
   ],
   "id": "5729bff91d65d192",
   "outputs": [
    {
     "name": "stdout",
     "output_type": "stream",
     "text": [
      "✉️ Original Message Polynomial:\n",
      "    m(x) = Poly(x**2 - x + 1, x, modulus=3)\n",
      "\n",
      "📬 Decrypted Message Polynomial:\n",
      "    m'(x) = Poly(x**2 - x + 1, x, modulus=3)\n",
      "================================================================================\n"
     ]
    }
   ],
   "execution_count": 11
  },
  {
   "metadata": {
    "ExecuteTime": {
     "end_time": "2025-06-02T16:09:53.620328Z",
     "start_time": "2025-06-02T16:09:53.206130Z"
    }
   },
   "cell_type": "code",
   "source": [
    "import matplotlib.pyplot as plt\n",
    "import numpy as np\n",
    "from lattice_methods import reduce_2d_basis\n",
    "\n",
    "def generate_fixed_lattice(b1, b2, grid_size=40):\n",
    "    b1 = np.array(b1)\n",
    "    b2 = np.array(b2)\n",
    "    half = grid_size // 2\n",
    "\n",
    "    points = []\n",
    "    for i in range(-half, half + 1):\n",
    "        for j in range(-half, half + 1):\n",
    "            p = i * b1 + j * b2\n",
    "            points.append(p)\n",
    "\n",
    "    return np.array(points)\n",
    "\n",
    "\n",
    "def plot_lattice_with_bases(points, b1, b2, b1_red, b2_red, zoom=0.5):\n",
    "    fig, ax = plt.subplots(figsize=(7, 7))\n",
    "    ax.set_aspect('equal')\n",
    "    ax.grid(True)\n",
    "\n",
    "    ax.scatter(points[:, 0], points[:, 1], s=6, color='black')\n",
    "\n",
    "    ax.quiver(0, 0, *b1, angles='xy', scale_units='xy', scale=1, color='red', width=0.004)\n",
    "    ax.quiver(0, 0, *b2, angles='xy', scale_units='xy', scale=1, color='red', width=0.004)\n",
    "    ax.text(*(np.array(b1) * 1.05), \"b₁\", color='red')\n",
    "    ax.text(*(np.array(b2) * 1.05), \"b₂\", color='red')\n",
    "\n",
    "    ax.quiver(0, 0, *b1_red, angles='xy', scale_units='xy', scale=1, color='blue', width=0.004)\n",
    "    ax.quiver(0, 0, *b2_red, angles='xy', scale_units='xy', scale=1, color='blue', width=0.004)\n",
    "    ax.text(*(np.array(b1_red) * 1.05), \"b₁ᵣ\", color='blue')\n",
    "    ax.text(*(np.array(b2_red) * 1.05), \"b₂ᵣ\", color='blue')\n",
    "\n",
    "    # Зум\n",
    "    x_min, x_max = points[:, 0].min(), points[:, 0].max()\n",
    "    y_min, y_max = points[:, 1].min(), points[:, 1].max()\n",
    "    x_center = (x_min + x_max) / 2\n",
    "    y_center = (y_min + y_max) / 2\n",
    "    span = max(x_max - x_min, y_max - y_min)\n",
    "    zoomed_span = span * zoom\n",
    "\n",
    "    ax.set_xlim(x_center - zoomed_span / 2, x_center + zoomed_span / 2)\n",
    "    ax.set_ylim(y_center - zoomed_span / 2, y_center + zoomed_span / 2)\n",
    "\n",
    "    ax.set_title(\"Original and Reduced Basis on Lattice\")\n",
    "    plt.show()\n",
    "\n",
    "\n",
    "\n",
    "\n",
    "b1 = np.array([53, 88])\n",
    "b2 = np.array([107, 205])\n",
    "points = generate_fixed_lattice(b1, b2, grid_size=20)\n",
    "b1_red, b2_red = reduce_2d_basis(b1, b2)\n",
    "\n",
    "plot_lattice_with_bases(points, b1, b2, b1_red, b2_red, zoom=0.1)"
   ],
   "id": "401599ca541ae071",
   "outputs": [
    {
     "data": {
      "text/plain": [
       "<Figure size 700x700 with 1 Axes>"
      ],
      "image/png": "[encoded data removed]"
     },
     "metadata": {},
     "output_type": "display_data"
    }
   ],
   "execution_count": 12
  }
 ],
 "metadata": {
  "kernelspec": {
   "display_name": "Python 3",
   "language": "python",
   "name": "python3"
  },
  "language_info": {
   "codemirror_mode": {
    "name": "ipython",
    "version": 2
   },
   "file_extension": ".py",
   "mimetype": "text/x-python",
   "name": "python",
   "nbconvert_exporter": "python",
   "pygments_lexer": "ipython2",
   "version": "2.7.6"
  }
 },
 "nbformat": 4,
 "nbformat_minor": 5
}
