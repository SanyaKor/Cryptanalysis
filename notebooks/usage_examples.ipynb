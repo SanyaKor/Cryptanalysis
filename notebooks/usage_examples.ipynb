{
 "cells": [
  {
   "metadata": {},
   "cell_type": "markdown",
   "source": [
    "## 📘 Usage Examples\n",
    "\n",
    "This notebook shows how to use key functions from the `lattice_methods` module.\n",
    "---\n",
    "\n",
    "### 🔹 Example 1: Reduce a 2D Basis\n",
    "### 🔧 Function: `reduce_2d_basis`\n",
    "\n",
    "Performs iterative 2D lattice basis reduction using projection and subtraction (similar to Gram-Schmidt).\n",
    "Returns a list of intermediate steps for inspection or visualization.\n",
    "\n",
    "---\n",
    "\n",
    "#### 📥 Parameters\n",
    "\n",
    "| Name      | Type         | Description                                             |\n",
    "|-----------|--------------|---------------------------------------------------------|\n",
    "| `basis1`  | `np.ndarray` | First 2D basis vector (shape `(2,)`)                   |\n",
    "| `basis2`  | `np.ndarray` | Second 2D basis vector (shape `(2,)`)                  |\n",
    "| `verbose` | `bool`       | If `True`, prints step-by-step details to the console. Default is `False` |\n",
    "\n",
    "---\n",
    "\n",
    "#### 📤 Returns\n",
    "\n",
    "A `List[Dict]` of reduction steps. Each step contains:\n",
    "- `'step'`: step index (starting from 0)\n",
    "- `'b1'`: current state of the first basis vector\n",
    "- `'b2'`: current state of the second basis vector\n",
    "\n",
    "---\n",
    "\n",
    "\n"
   ],
   "id": "e98a0feba62a5d46"
  },
  {
   "metadata": {},
   "cell_type": "markdown",
   "source": "#### 💡 Example",
   "id": "bf27bbc94a8c848c"
  },
  {
   "metadata": {
    "collapsed": true,
    "ExecuteTime": {
     "end_time": "2025-05-25T15:50:44.918874Z",
     "start_time": "2025-05-25T15:50:44.131693Z"
    }
   },
   "cell_type": "code",
   "source": [
    "from lattice_methods import reduce_2d_basis\n",
    "from lattice_methods import lll_reduce\n",
    "import numpy as np\n",
    "import pandas as pd\n",
    "\n",
    "# 2d vector example\n",
    "b1 = np.array([58, 19])\n",
    "b2 = np.array([168, 55])\n",
    "\n",
    "#\n",
    "data = reduce_2d_basis(b1, b2, verbose=True)\n",
    "table = pd.DataFrame.from_dict(data)\n",
    "display(table.style.hide(axis=\"index\"))"
   ],
   "id": "initial_id",
   "outputs": [
    {
     "data": {
      "text/plain": [
       "<pandas.io.formats.style.Styler at 0x10db307a0>"
      ],
      "text/html": [
       "<style type=\"text/css\">\n",
       "</style>\n",
       "<table id=\"T_d227a\">\n",
       "  <thead>\n",
       "    <tr>\n",
       "      <th id=\"T_d227a_level0_col0\" class=\"col_heading level0 col0\" >step</th>\n",
       "      <th id=\"T_d227a_level0_col1\" class=\"col_heading level0 col1\" >b1</th>\n",
       "      <th id=\"T_d227a_level0_col2\" class=\"col_heading level0 col2\" >b2</th>\n",
       "    </tr>\n",
       "  </thead>\n",
       "  <tbody>\n",
       "    <tr>\n",
       "      <td id=\"T_d227a_row0_col0\" class=\"data row0 col0\" >0</td>\n",
       "      <td id=\"T_d227a_row0_col1\" class=\"data row0 col1\" >[58 19]</td>\n",
       "      <td id=\"T_d227a_row0_col2\" class=\"data row0 col2\" >[168  55]</td>\n",
       "    </tr>\n",
       "    <tr>\n",
       "      <td id=\"T_d227a_row1_col0\" class=\"data row1 col0\" >1</td>\n",
       "      <td id=\"T_d227a_row1_col1\" class=\"data row1 col1\" >[-6 -2]</td>\n",
       "      <td id=\"T_d227a_row1_col2\" class=\"data row1 col2\" >[58 19]</td>\n",
       "    </tr>\n",
       "    <tr>\n",
       "      <td id=\"T_d227a_row2_col0\" class=\"data row2 col0\" >2</td>\n",
       "      <td id=\"T_d227a_row2_col1\" class=\"data row2 col1\" >[-2 -1]</td>\n",
       "      <td id=\"T_d227a_row2_col2\" class=\"data row2 col2\" >[-6 -2]</td>\n",
       "    </tr>\n",
       "    <tr>\n",
       "      <td id=\"T_d227a_row3_col0\" class=\"data row3 col0\" >3</td>\n",
       "      <td id=\"T_d227a_row3_col1\" class=\"data row3 col1\" >[0 1]</td>\n",
       "      <td id=\"T_d227a_row3_col2\" class=\"data row3 col2\" >[-2 -1]</td>\n",
       "    </tr>\n",
       "    <tr>\n",
       "      <td id=\"T_d227a_row4_col0\" class=\"data row4 col0\" >4</td>\n",
       "      <td id=\"T_d227a_row4_col1\" class=\"data row4 col1\" >[0 1]</td>\n",
       "      <td id=\"T_d227a_row4_col2\" class=\"data row4 col2\" >[-2  0]</td>\n",
       "    </tr>\n",
       "    <tr>\n",
       "      <td id=\"T_d227a_row5_col0\" class=\"data row5 col0\" >→ shortest</td>\n",
       "      <td id=\"T_d227a_row5_col1\" class=\"data row5 col1\" >[0 1]</td>\n",
       "      <td id=\"T_d227a_row5_col2\" class=\"data row5 col2\" ></td>\n",
       "    </tr>\n",
       "  </tbody>\n",
       "</table>\n"
      ]
     },
     "metadata": {},
     "output_type": "display_data"
    }
   ],
   "execution_count": 5
  },
  {
   "metadata": {},
   "cell_type": "markdown",
   "source": [
    "### 🔹 Example 2: Reduce a 2D Basis and higher\n",
    "### 🔧 Function: `lll_reduce`\n",
    "\n",
    "Implements the **Lenstra–Lenstra–Lovász (LLL)** lattice basis reduction algorithm for integer bases in arbitrary dimension.\n",
    "Applies size reduction and swaps based on the Lovász condition to produce shorter, nearly orthogonal vectors.\n",
    "\n",
    "---\n",
    "\n",
    "#### 📥 Parameters\n",
    "\n",
    "| Name       | Type           | Description                                                                 |\n",
    "|------------|----------------|-----------------------------------------------------------------------------|\n",
    "| `basis`    | `List[np.ndarray]` | List of linearly independent integer vectors (dimension `n`)                |\n",
    "| `delta`    | `float`        | Lovász parameter, typically between 0.5 and 1. Default is `0.75`            |\n",
    "| `verbose`  | `bool`         | If `True`, prints the internal steps of reduction. Default is `False`       |\n",
    "\n",
    "---\n",
    "\n",
    "#### 📤 Returns\n",
    "\n",
    "- `List[np.ndarray]`:\n",
    "  The reduced basis as a list of vectors in the same dimension as the input.\n",
    "\n",
    "---\n",
    "\n",
    "#### 💡 Example Usage"
   ],
   "id": "ed9017661aaf8f2b"
  },
  {
   "metadata": {
    "ExecuteTime": {
     "end_time": "2025-05-25T15:50:45.135083Z",
     "start_time": "2025-05-25T15:50:45.130582Z"
    }
   },
   "cell_type": "code",
   "source": [
    "data = lll_reduce([b1,b2], verbose=False)\n",
    "print(data)"
   ],
   "id": "cf63e7f314e64de0",
   "outputs": [
    {
     "name": "stdout",
     "output_type": "stream",
     "text": [
      "[array([0, 1]), array([-2,  0])]\n"
     ]
    }
   ],
   "execution_count": 6
  },
  {
   "metadata": {},
   "cell_type": "markdown",
   "source": [
    "# 🔐 NTRU Public Key Encryption — Python Implementation\n",
    "\n",
    "This notebook demonstrates the usage of NTRU-based encryption and decryption using polynomials in modular arithmetic.\n",
    "\n",
    "## 📌 Setup\n",
    "\n",
    "We use the following parameters:\n",
    "\n",
    "- `N ` — degree of the ring (modulo \\( x^N - 1 \\))\n",
    "- `p ` — small modulus (used for message space)\n",
    "- `q ` — large modulus (used for ciphertext and key space)\n",
    "- Polynomials:\n",
    "  - `f` — private polynomial (invertible mod p and q)\n",
    "  - `g` — public polynomial\n",
    "  - `phi` — random small polynomial (used for each encryption)\n",
    "  - `m` — message polynomial (with small coefficients mod p)\n",
    "\n",
    "## ⚙️ Functions\n",
    "\n",
    "### 🔧 `ntru_generate_keys(N, p, q, g, f)`\n",
    "\n",
    "Generates keypair:\n",
    "\n",
    "- **Inputs:**\n",
    "  - `N` — ring degree\n",
    "  - `p`, `q` — small/large moduli\n",
    "  - `g`, `f` — polynomials (`sympy.Poly`) over integers\n",
    "\n",
    "- **Returns:**\n",
    "  - `public_key`: tuple `(N, p, q, h)`\n",
    "  - `private_key`: tuple `(f, Fp, Fq)` (with inverses mod `p` and `q`)\n",
    "\n",
    "---\n",
    "\n",
    "### ✉️ `ntru_encryption(public_key, phi, m)`\n",
    "\n",
    "Encrypts message polynomial `m` using random ephemeral key `phi`.\n",
    "\n",
    "- **Inputs:**\n",
    "  - `public_key = (N, p, q, h)`\n",
    "  - `phi` — random small polynomial (`Poly`)\n",
    "  - `m` — message polynomial (`Poly`, domain=`GF(p)`)\n",
    "\n",
    "- **Returns:**\n",
    "  - `ciphertext` — encrypted `Poly` over `GF(q)`\n",
    "\n",
    "---\n",
    "\n",
    "### 🔓 `ntru_decryption(public_key, private_key, ciphertext)`\n",
    "\n",
    "Decrypts the ciphertext back to message.\n",
    "\n",
    "- **Inputs:**\n",
    "  - `public_key = (N, p, q, h)`\n",
    "  - `private_key = (f, Fp, Fq)`\n",
    "  - `ciphertext` — polynomial to decrypt\n",
    "\n",
    "- **Returns:**\n",
    "  - `message` — decrypted polynomial over `GF(p)`\n",
    "\n",
    "---\n",
    "\n",
    "## 🧪 Example Usage\n",
    "📌 _Numerical values in this example are taken directly from:_ [https://shrek.unideb.hu/~tengely/crypto/section-8.html](https://shrek.unideb.hu/~tengely/crypto/section-8.html)\n",
    "\n",
    "---\n"
   ],
   "id": "f359e89dbf7852ed"
  },
  {
   "metadata": {
    "ExecuteTime": {
     "end_time": "2025-05-25T15:58:13.269802Z",
     "start_time": "2025-05-25T15:58:13.250500Z"
    }
   },
   "cell_type": "code",
   "source": [
    "from lattice_methods import ntru_generate_keys, ntru_encryption, ntru_decryption\n",
    "from sympy import Poly, GF,symbols\n",
    "\n",
    "x = symbols('x')\n",
    "\n",
    "N = 7\n",
    "p = 3\n",
    "q = 41\n",
    "\n",
    "\n",
    "phi = [1, -1, 0, 0, 0, 1, -1]\n",
    "m = [0, -1, 0, 1, 1, -1, 1]\n",
    "g = [1, 0, 1, 0, -1, -1, 0]\n",
    "f = [1, 0, -1, 1, 1, 0, -1]\n",
    "\n",
    "\n",
    "\n",
    "\n",
    "poly_f = Poly(f, x)\n",
    "poly_g = Poly(g, x)\n",
    "poly_m = Poly(m, x)\n",
    "poly_phi = Poly(phi, x)\n",
    "\n",
    "pub_key, prv_key = ntru_generate_keys(N, p, q, poly_g, poly_f)\n",
    "ciphertext = ntru_encryption(pub_key, poly_phi, poly_m)\n",
    "poly_d = ntru_decryption(pub_key, prv_key, ciphertext)\n",
    "\n",
    "\n",
    "poly_m = Poly(poly_m, x, domain=GF(p))\n",
    "print(pub_key)\n",
    "print(prv_key)\n",
    "print(poly_m)\n",
    "print(poly_d)"
   ],
   "id": "3babb443fcf37cfa",
   "outputs": [
    {
     "name": "stdout",
     "output_type": "stream",
     "text": [
      "[7, 3, 41, [19, 38, 6, 32, 24, 37, 8]]\n",
      "[Poly(x**6 - x**4 + x**3 + x**2 - 1, x, domain='ZZ'), [1, -1, 0, 1, 1, 1, 1]]\n",
      "Poly(-x**5 + x**3 + x**2 - x + 1, x, modulus=3)\n",
      "Poly(-x**5 + x**3 + x**2 - x + 1, x, modulus=3)\n"
     ]
    }
   ],
   "execution_count": 8
  },
  {
   "metadata": {
    "ExecuteTime": {
     "end_time": "2025-05-25T15:50:50.839420Z",
     "start_time": "2025-05-25T15:50:50.837298Z"
    }
   },
   "cell_type": "code",
   "source": "",
   "id": "4f175bae02aeae63",
   "outputs": [],
   "execution_count": null
  },
  {
   "metadata": {},
   "cell_type": "code",
   "outputs": [],
   "execution_count": null,
   "source": "",
   "id": "fa436d667a9166c9"
  }
 ],
 "metadata": {
  "kernelspec": {
   "display_name": "Python 3",
   "language": "python",
   "name": "python3"
  },
  "language_info": {
   "codemirror_mode": {
    "name": "ipython",
    "version": 2
   },
   "file_extension": ".py",
   "mimetype": "text/x-python",
   "name": "python",
   "nbconvert_exporter": "python",
   "pygments_lexer": "ipython2",
   "version": "2.7.6"
  }
 },
 "nbformat": 4,
 "nbformat_minor": 5
}
