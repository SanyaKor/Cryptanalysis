{
 "cells": [
  {
   "metadata": {},
   "cell_type": "markdown",
   "source": [
    "## 📘 Usage Examples\n",
    "\n",
    "This notebook shows how to use key functions from the `lattice_methods` module.\n",
    "---\n",
    "\n",
    "### 🔹 Example 1: Reduce a 2D Basis\n",
    "### 🔧 Function: `reduce_2d_basis`\n",
    "\n",
    "Performs iterative 2D lattice basis reduction using projection and subtraction (similar to Gram-Schmidt).\n",
    "Returns a list of intermediate steps for inspection or visualization.\n",
    "\n",
    "---\n",
    "\n",
    "#### 📥 Parameters\n",
    "\n",
    "| Name      | Type         | Description                                             |\n",
    "|-----------|--------------|---------------------------------------------------------|\n",
    "| `basis1`  | `np.ndarray` | First 2D basis vector (shape `(2,)`)                   |\n",
    "| `basis2`  | `np.ndarray` | Second 2D basis vector (shape `(2,)`)                  |\n",
    "| `verbose` | `bool`       | If `True`, prints step-by-step details to the console. Default is `False` |\n",
    "\n",
    "---\n",
    "\n",
    "#### 📤 Returns\n",
    "\n",
    "A `List[Dict]` of reduction steps. Each step contains:\n",
    "- `'step'`: step index (starting from 0)\n",
    "- `'b1'`: current state of the first basis vector\n",
    "- `'b2'`: current state of the second basis vector\n",
    "\n",
    "---\n",
    "\n",
    "\n"
   ],
   "id": "e98a0feba62a5d46"
  },
  {
   "metadata": {},
   "cell_type": "markdown",
   "source": "#### 💡 Example",
   "id": "bf27bbc94a8c848c"
  },
  {
   "metadata": {
    "collapsed": true,
    "ExecuteTime": {
     "end_time": "2025-06-02T17:53:30.609485Z",
     "start_time": "2025-06-02T17:53:30.312507Z"
    }
   },
   "cell_type": "code",
   "source": [
    "from lattice_methods import reduce_2d_basis\n",
    "from lattice_methods import lll_reduce\n",
    "import numpy as np\n",
    "import pandas as pd\n",
    "from tabulate import tabulate\n",
    "\n",
    "\n",
    "# 2d vector example\n",
    "b1 = np.array([58, 19])\n",
    "b2 = np.array([168, 55])\n",
    "\n",
    "data = reduce_2d_basis(b1, b2, verbose=True)\n",
    "\n",
    "for row in data:\n",
    "    row[\"b1\"] = str(row[\"b1\"])\n",
    "    row[\"b2\"] = str(row[\"b2\"])\n",
    "\n",
    "print(tabulate(data, headers=\"keys\", tablefmt=\"pipe\"))"
   ],
   "id": "initial_id",
   "outputs": [
    {
     "name": "stdout",
     "output_type": "stream",
     "text": [
      "| step       | b1      | b2        |\n",
      "|:-----------|:--------|:----------|\n",
      "| 0          | [58 19] | [168  55] |\n",
      "| 1          | [-6 -2] | [58 19]   |\n",
      "| 2          | [-2 -1] | [-6 -2]   |\n",
      "| 3          | [0 1]   | [-2 -1]   |\n",
      "| 4          | [0 1]   | [-2  0]   |\n",
      "| → shortest | [0 1]   |           |\n"
     ]
    }
   ],
   "execution_count": 2
  },
  {
   "metadata": {},
   "cell_type": "markdown",
   "source": [
    "### 🔹 Example 2: Reduce a 2D Basis and higher\n",
    "### 🔧 Function: `lll_reduce`\n",
    "\n",
    "Implements the **Lenstra–Lenstra–Lovász (LLL)** lattice basis reduction algorithm for integer bases in arbitrary dimension.\n",
    "Applies size reduction and swaps based on the Lovász condition to produce shorter, nearly orthogonal vectors.\n",
    "\n",
    "---\n",
    "\n",
    "#### 📥 Parameters\n",
    "\n",
    "| Name       | Type           | Description                                                                 |\n",
    "|------------|----------------|-----------------------------------------------------------------------------|\n",
    "| `basis`    | `List[np.ndarray]` | List of linearly independent integer vectors (dimension `n`)                |\n",
    "| `delta`    | `float`        | Lovász parameter, typically between 0.5 and 1. Default is `0.75`            |\n",
    "| `verbose`  | `bool`         | If `True`, prints the internal steps of reduction. Default is `False`       |\n",
    "\n",
    "---\n",
    "\n",
    "#### 📤 Returns\n",
    "\n",
    "- `List[np.ndarray]`:\n",
    "  The reduced basis as a list of vectors in the same dimension as the input.\n",
    "\n",
    "---\n",
    "\n",
    "#### 💡 Example Usage"
   ],
   "id": "ed9017661aaf8f2b"
  },
  {
   "metadata": {
    "ExecuteTime": {
     "end_time": "2025-06-02T17:53:31.085114Z",
     "start_time": "2025-06-02T17:53:31.082402Z"
    }
   },
   "cell_type": "code",
   "source": [
    "data = lll_reduce([b1,b2], verbose=False)\n",
    "print(data)"
   ],
   "id": "cf63e7f314e64de0",
   "outputs": [
    {
     "name": "stdout",
     "output_type": "stream",
     "text": [
      "[array([0, 1]), array([-2,  0])]\n"
     ]
    }
   ],
   "execution_count": 3
  },
  {
   "metadata": {},
   "cell_type": "markdown",
   "source": [
    "# 🔐 NTRU Public Key Encryption — Python Implementation\n",
    "\n",
    "This notebook demonstrates the usage of NTRU-based encryption and decryption using polynomials in modular arithmetic.\n",
    "\n",
    "**📌 Setup**\n",
    "\n",
    "We use the following parameters:\n",
    "\n",
    "- `N ` — degree of the ring (modulo \\( x^N - 1 \\))\n",
    "- `p ` — small modulus (used for message space)\n",
    "- `q ` — large modulus (used for ciphertext and key space)\n",
    "- Polynomials:\n",
    "  - `f` — private polynomial (invertible mod p and q)\n",
    "  - `g` — public polynomial\n",
    "  - `phi` — random small polynomial (used for each encryption)\n",
    "  - `m` — message polynomial (with small coefficients mod p)\n",
    "\n",
    "**⚙️ Functions**\n",
    "\n",
    "**🔧 `ntru_generate_keys(N, p, q, g, f)`**\n",
    "\n",
    "Generates keypair:\n",
    "\n",
    "- **Inputs:**\n",
    "  - `N` — ring degree\n",
    "  - `p`, `q` — small/large moduli\n",
    "  - `g`, `f` — polynomials (`sympy.Poly`) over integers\n",
    "\n",
    "- **Returns:**\n",
    "  - `public_key`: tuple `(N, p, q, h)`\n",
    "  - `private_key`: tuple `(f, Fp)` (with inverses mod `p` and `q`)\n",
    "\n",
    "---\n",
    "\n",
    "**✉️ `ntru_encryption(public_key, phi, m)`**\n",
    "\n",
    "Encrypts message polynomial `m` using random ephemeral key `phi`.\n",
    "\n",
    "- **Inputs:**\n",
    "  - `public_key = (N, p, q, h)`\n",
    "  - `phi` — random small polynomial (`Poly`)\n",
    "  - `m` — message polynomial (`Poly`, domain=`GF(p)`)\n",
    "\n",
    "- **Returns:**\n",
    "  - `ciphertext` — encrypted `Poly` over `GF(q)`\n",
    "\n",
    " 🔓 `ntru_decryption(public_key, private_key, ciphertext)`\n",
    "\n",
    "\n",
    "Decrypts the ciphertext back to message.\n",
    "\n",
    "- **Inputs:**\n",
    "  - `public_key = (N, p, q, h)`\n",
    "  - `private_key = (f, Fp, Fq)`\n",
    "  - `ciphertext` — polynomial to decrypt\n",
    "\n",
    "- **Returns:**\n",
    "  - `message` — decrypted polynomial over `GF(p)`\n",
    "\n",
    "---\n",
    "\n",
    "**🧪 Example Usage**\n",
    "📌 _Numerical values in this example are taken directly from:_ [https://shrek.unideb.hu/~tengely/crypto/section-8.html](https://shrek.unideb.hu/~tengely/crypto/section-8.html)\n",
    "\n",
    "---\n"
   ],
   "id": "f359e89dbf7852ed"
  },
  {
   "metadata": {
    "ExecuteTime": {
     "end_time": "2025-06-02T17:53:32.166045Z",
     "start_time": "2025-06-02T17:53:32.152246Z"
    }
   },
   "cell_type": "code",
   "source": [
    "from lattice_methods import ntru_generate_keys, ntru_encryption, ntru_decryption\n",
    "from sympy import Poly, GF,symbols\n",
    "\n",
    "x = symbols('x')\n",
    "\n",
    "N = 7\n",
    "p = 3\n",
    "q = 41\n",
    "\n",
    "#### a_0 x^n + a_1 x^n-1.....\n",
    "phi = [1, -1, 0, 0, 0, 1, -1]\n",
    "m = [0, -1, 0, 1, 1, -1, 1]\n",
    "g = [1, 0, 1, 0, -1, -1, 0]\n",
    "f = [1, 0, -1, 1, 1, 0, -1]\n",
    "\n",
    "\n",
    "poly_f = Poly(f, x)\n",
    "poly_g = Poly(g, x)\n",
    "poly_m = Poly(m, x)\n",
    "poly_phi = Poly(phi, x)\n",
    "\n",
    "pub_key, prv_key = ntru_generate_keys(N, p, q, poly_g, poly_f)\n",
    "ciphertext = ntru_encryption(pub_key, poly_phi, poly_m)\n",
    "poly_d = ntru_decryption(pub_key, prv_key, ciphertext)\n",
    "\n",
    "[f, Fp] = prv_key\n",
    "[N,p, q, h] = pub_key\n",
    "\n",
    "poly_m = Poly(poly_m, x, domain=GF(p))\n",
    "print(\"🔑 NTRU Key Summary\")\n",
    "print(\"=\" * 80)\n",
    "print(f\"📤 Public Key (N={N}, p={p}, q={q}, h={h}):\")\n",
    "print(f\"    h(x) = {h}\\n\")\n",
    "\n",
    "print(\"🔐 Private Key:\")\n",
    "print(f\"    f(x)  = {f}\")\n",
    "print(f\"    Fp(x) = {Fp}\")\n",
    "\n",
    "\n",
    "print(\"✉️ Original Message Polynomial:\")\n",
    "print(f\"    m(x) = {poly_m}\\n\")\n",
    "\n",
    "print(\"📬 Decrypted Message Polynomial:\")\n",
    "print(f\"    m'(x) = {poly_d}\")\n",
    "print(\"=\" * 80)"
   ],
   "id": "3babb443fcf37cfa",
   "outputs": [
    {
     "name": "stdout",
     "output_type": "stream",
     "text": [
      "🔑 NTRU Key Summary\n",
      "================================================================================\n",
      "📤 Public Key (N=7, p=3, q=41, h=[19, 38, 6, 32, 24, 37, 8]):\n",
      "    h(x) = [19, 38, 6, 32, 24, 37, 8]\n",
      "\n",
      "🔐 Private Key:\n",
      "    f(x)  = Poly(x**6 - x**4 + x**3 + x**2 - 1, x, domain='ZZ')\n",
      "    Fp(x) = [1, -1, 0, 1, 1, 1, 1]\n",
      "✉️ Original Message Polynomial:\n",
      "    m(x) = Poly(-x**5 + x**3 + x**2 - x + 1, x, modulus=3)\n",
      "\n",
      "📬 Decrypted Message Polynomial:\n",
      "    m'(x) = Poly(-x**5 + x**3 + x**2 - x + 1, x, modulus=3)\n",
      "================================================================================\n"
     ]
    }
   ],
   "execution_count": 4
  },
  {
   "metadata": {},
   "cell_type": "code",
   "outputs": [],
   "execution_count": null,
   "source": "",
   "id": "63eb72c7056f54f8"
  }
 ],
 "metadata": {
  "kernelspec": {
   "display_name": "Python 3",
   "language": "python",
   "name": "python3"
  },
  "language_info": {
   "codemirror_mode": {
    "name": "ipython",
    "version": 2
   },
   "file_extension": ".py",
   "mimetype": "text/x-python",
   "name": "python",
   "nbconvert_exporter": "python",
   "pygments_lexer": "ipython2",
   "version": "2.7.6"
  }
 },
 "nbformat": 4,
 "nbformat_minor": 5
}
