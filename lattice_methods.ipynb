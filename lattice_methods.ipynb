{
 "cells": [
  {
   "metadata": {
    "ExecuteTime": {
     "end_time": "2025-05-18T18:10:08.010188Z",
     "start_time": "2025-05-18T18:10:07.111612Z"
    }
   },
   "cell_type": "code",
   "source": [
    "import numpy as np\n",
    "\n",
    "def reduce_2d_basis(basis1, basis2):\n",
    "\n",
    "    initial_basis = [ basis1.copy(), basis2.copy() ]\n",
    "\n",
    "    data = []\n",
    "\n",
    "    steps = 0\n",
    "\n",
    "    while True:\n",
    "\n",
    "        if np.linalg.norm(basis2) < np.linalg.norm(basis1):\n",
    "            basis1, basis2 = basis2, basis1\n",
    "            continue\n",
    "\n",
    "\n",
    "        t = round(np.dot(basis1, basis2) / np.dot(basis1, basis1))\n",
    "\n",
    "        data.append({\n",
    "            'step': steps,\n",
    "            'b1': basis1.copy(),\n",
    "            'b2': basis2.copy(),\n",
    "            't': t\n",
    "        })\n",
    "\n",
    "        steps += 1\n",
    "\n",
    "\n",
    "        if t == 0:\n",
    "            break\n",
    "\n",
    "        basis2 = basis2 - t * basis1\n",
    "\n",
    "\n",
    "    return data"
   ],
   "id": "806a151e9e461cae",
   "outputs": [],
   "execution_count": 4
  },
  {
   "metadata": {},
   "cell_type": "markdown",
   "source": [
    "### 📊 2D Basis Reduction Table\n",
    "\n",
    "This table shows the step-by-step reduction of a 2D lattice basis:\n",
    "\n",
    "- **`step`** — the number of the reduction step\n",
    "- **`b1`, `b2`** — the basis vectors at each step\n",
    "- The final row labeled **`→ shortest`** indicates the shortest vector found in the final reduced basis\n",
    "\n",
    "The goal of the reduction is to simplify the basis while preserving the original lattice:\n",
    "- Making vectors shorter\n",
    "- Moving them closer to orthogonality"
   ],
   "id": "ac2e4804c5535eaa"
  },
  {
   "metadata": {
    "ExecuteTime": {
     "end_time": "2025-05-18T18:10:36.577262Z",
     "start_time": "2025-05-18T18:10:25.168549Z"
    }
   },
   "cell_type": "code",
   "source": [
    "import pandas as pd\n",
    "from IPython.display import display\n",
    "\n",
    "def build_basis_table(data):\n",
    "    rows = []\n",
    "    for entry in data:\n",
    "        rows.append({\n",
    "            'step': entry['step'],\n",
    "            'b1': f\"[{entry['b1'][0]}, {entry['b1'][1]}]\",\n",
    "            'b2': f\"[{entry['b2'][0]}, {entry['b2'][1]}]\",\n",
    "        })\n",
    "\n",
    "    last = data[-1]\n",
    "    b1, b2 = last['b1'], last['b2']\n",
    "    shortest = b1 if np.linalg.norm(b1) <= np.linalg.norm(b2) else b2\n",
    "\n",
    "    rows.append({\n",
    "        'step': '→ shortest',\n",
    "        'b1': f\"[{shortest[0]}, {shortest[1]}]\",\n",
    "        'b2': ''\n",
    "    })\n",
    "\n",
    "    return pd.DataFrame(rows)\n",
    "\n",
    "\n",
    "b1 = np.array([31, 59])\n",
    "b2 = np.array([37, 70])\n",
    "\n",
    "data = reduce_2d_basis(b1, b2)\n",
    "table = build_basis_table(data)\n",
    "display(table.style.set_caption(\"2D Basis Reduction + Shortest Vector\").hide(axis=\"index\"))"
   ],
   "id": "7553379e57dde1b9",
   "outputs": [
    {
     "data": {
      "text/plain": [
       "<pandas.io.formats.style.Styler at 0x105949070>"
      ],
      "text/html": [
       "<style type=\"text/css\">\n",
       "</style>\n",
       "<table id=\"T_1e973\">\n",
       "  <caption>2D Basis Reduction + Shortest Vector</caption>\n",
       "  <thead>\n",
       "    <tr>\n",
       "      <th id=\"T_1e973_level0_col0\" class=\"col_heading level0 col0\" >step</th>\n",
       "      <th id=\"T_1e973_level0_col1\" class=\"col_heading level0 col1\" >b1</th>\n",
       "      <th id=\"T_1e973_level0_col2\" class=\"col_heading level0 col2\" >b2</th>\n",
       "    </tr>\n",
       "  </thead>\n",
       "  <tbody>\n",
       "    <tr>\n",
       "      <td id=\"T_1e973_row0_col0\" class=\"data row0 col0\" >0</td>\n",
       "      <td id=\"T_1e973_row0_col1\" class=\"data row0 col1\" >[31, 59]</td>\n",
       "      <td id=\"T_1e973_row0_col2\" class=\"data row0 col2\" >[37, 70]</td>\n",
       "    </tr>\n",
       "    <tr>\n",
       "      <td id=\"T_1e973_row1_col0\" class=\"data row1 col0\" >1</td>\n",
       "      <td id=\"T_1e973_row1_col1\" class=\"data row1 col1\" >[6, 11]</td>\n",
       "      <td id=\"T_1e973_row1_col2\" class=\"data row1 col2\" >[31, 59]</td>\n",
       "    </tr>\n",
       "    <tr>\n",
       "      <td id=\"T_1e973_row2_col0\" class=\"data row2 col0\" >2</td>\n",
       "      <td id=\"T_1e973_row2_col1\" class=\"data row2 col1\" >[1, 4]</td>\n",
       "      <td id=\"T_1e973_row2_col2\" class=\"data row2 col2\" >[6, 11]</td>\n",
       "    </tr>\n",
       "    <tr>\n",
       "      <td id=\"T_1e973_row3_col0\" class=\"data row3 col0\" >3</td>\n",
       "      <td id=\"T_1e973_row3_col1\" class=\"data row3 col1\" >[3, -1]</td>\n",
       "      <td id=\"T_1e973_row3_col2\" class=\"data row3 col2\" >[1, 4]</td>\n",
       "    </tr>\n",
       "    <tr>\n",
       "      <td id=\"T_1e973_row4_col0\" class=\"data row4 col0\" >→ shortest</td>\n",
       "      <td id=\"T_1e973_row4_col1\" class=\"data row4 col1\" >[3, -1]</td>\n",
       "      <td id=\"T_1e973_row4_col2\" class=\"data row4 col2\" ></td>\n",
       "    </tr>\n",
       "  </tbody>\n",
       "</table>\n"
      ]
     },
     "metadata": {},
     "output_type": "display_data"
    }
   ],
   "execution_count": 6
  },
  {
   "metadata": {},
   "cell_type": "markdown",
   "source": [
    "# ✅ Lattice Reduction Test Log\n",
    "\n",
    "**Test configuration:**\n",
    "\n",
    "- Total tests: `5`\n",
    "- Vector range: `[-50, 50]`\n",
    "- Min |component|: `10`\n",
    "- Algorithm: `2D basis reduction`\n",
    "- Check:\n",
    "  - ✅ Same lattice (via invertible integer transformation)\n",
    "  - ✅ Shorter vector after reduction"
   ],
   "id": "a1230e83f7c7d0f3"
  },
  {
   "metadata": {
    "ExecuteTime": {
     "end_time": "2025-05-18T17:56:47.014389Z",
     "start_time": "2025-05-18T17:56:46.994640Z"
    }
   },
   "cell_type": "code",
   "source": [
    "def check_same_lattice(basis1_init, basis2_init, basis1_reduced, basis2_reduced):\n",
    "    Basis_initial = np.column_stack([basis1_init, basis2_init])\n",
    "    Basis_reduced = np.column_stack([basis1_reduced, basis2_reduced])\n",
    "\n",
    "    T = np.linalg.solve(Basis_initial, Basis_reduced)\n",
    "\n",
    "    return np.allclose(T, np.round(T)) and round(abs(np.linalg.det(T))) == 1\n",
    "\n",
    "#reduced = [data[-1]['b1'], data[-1]['b2']]\n",
    "#check_same_lattice(b1, b2, reduced[0], reduced[1])\n",
    "\n",
    "def run_random_basis_tests(n=5, min_abs=10, max_val=50):\n",
    "    passed = 0\n",
    "    generated = 0\n",
    "\n",
    "    def generate_vector():\n",
    "        while True:\n",
    "            v = np.random.randint(-max_val, max_val + 1, size=2)\n",
    "            if all(abs(x) >= min_abs for x in v):\n",
    "                return v\n",
    "\n",
    "    while generated < n:\n",
    "        b1 = generate_vector()\n",
    "        b2 = generate_vector()\n",
    "\n",
    "        if np.linalg.matrix_rank(np.column_stack([b1, b2])) < 2:\n",
    "            continue\n",
    "\n",
    "        generated += 1\n",
    "        log = reduce_2d_basis(b1, b2)\n",
    "        b1r, b2r = log[-1]['b1'], log[-1]['b2']\n",
    "\n",
    "        same = check_same_lattice(b1, b2, b1r, b2r)\n",
    "        original_len = min(np.linalg.norm(b1), np.linalg.norm(b2))\n",
    "        reduced_len = min(np.linalg.norm(b1r), np.linalg.norm(b2r))\n",
    "        improved = reduced_len <= original_len\n",
    "\n",
    "        if same and improved:\n",
    "            print(f\"✅ Test {generated}: PASS\")\n",
    "            print(f\"  b1 = {b1}, b2 = {b2}\")\n",
    "            print(f\"  reduced b1 = {b1r}, b2 = {b2r}\")\n",
    "            passed += 1\n",
    "        else:\n",
    "            print(f\"❌ Test {generated}: FAIL\")\n",
    "            print(f\"  b1 = {b1}, b2 = {b2}\")\n",
    "            print(f\"  reduced b1 = {b1r}, b2 = {b2r}\")\n",
    "            print(f\"  same lattice = {same}, reduced = {improved}\")\n",
    "\n",
    "    print(f\"\\n📊 {passed}/{n} tests passed.\")\n",
    "\n",
    "run_random_basis_tests(5)"
   ],
   "id": "f3c387645ca0375e",
   "outputs": [
    {
     "name": "stdout",
     "output_type": "stream",
     "text": [
      "✅ Test 1: PASS\n",
      "  b1 = [-15 -15], b2 = [50 47]\n",
      "  reduced b1 = [5 2], b2 = [ 5 -7]\n",
      "✅ Test 2: PASS\n",
      "  b1 = [36 34], b2 = [-27 -41]\n",
      "  reduced b1 = [ 9 -7], b2 = [-27 -41]\n",
      "✅ Test 3: PASS\n",
      "  b1 = [ 27 -17], b2 = [39 40]\n",
      "  reduced b1 = [ 27 -17], b2 = [39 40]\n",
      "✅ Test 4: PASS\n",
      "  b1 = [-37  19], b2 = [12 45]\n",
      "  reduced b1 = [-37  19], b2 = [12 45]\n",
      "✅ Test 5: PASS\n",
      "  b1 = [-14  42], b2 = [-36  11]\n",
      "  reduced b1 = [-36  11], b2 = [22 31]\n",
      "\n",
      "📊 5/5 tests passed.\n"
     ]
    }
   ],
   "execution_count": 37
  }
 ],
 "metadata": {
  "kernelspec": {
   "display_name": "Python 3",
   "language": "python",
   "name": "python3"
  },
  "language_info": {
   "codemirror_mode": {
    "name": "ipython",
    "version": 2
   },
   "file_extension": ".py",
   "mimetype": "text/x-python",
   "name": "python",
   "nbconvert_exporter": "python",
   "pygments_lexer": "ipython2",
   "version": "2.7.6"
  }
 },
 "nbformat": 4,
 "nbformat_minor": 5
}
